{
 "cells": [
  {
   "cell_type": "markdown",
   "id": "54cb9274",
   "metadata": {},
   "source": [
    "## Call Center Operations Optimization"
   ]
  },
  {
   "cell_type": "markdown",
   "id": "92f6042d",
   "metadata": {
    "vscode": {
     "languageId": "markdown"
    }
   },
   "source": [
    "### Objective\n",
    "\n",
    "The objective of this project is to simulate and optimize call center operations using queueing theory. We model customer call arrivals and agent service times to analyze system performance, evaluate staffing requirements, and ensure service quality targets (such as minimizing customer wait times) are met."
   ]
  },
  {
   "cell_type": "code",
   "execution_count": 4,
   "id": "7dad2189",
   "metadata": {},
   "outputs": [],
   "source": [
    "import numpy as np , pandas as pd\n",
    "import matplotlib.pyplot as plt, seaborn as sns"
   ]
  },
  {
   "cell_type": "markdown",
   "id": "71df0c97",
   "metadata": {},
   "source": [
    "## Step 1:\n",
    "- 1.Model calls arriving at rate λ per hour (Poisson process) and service times of 1/μ hours (Exponential)."
   ]
  },
  {
   "cell_type": "code",
   "execution_count": 5,
   "id": "2451aadc",
   "metadata": {},
   "outputs": [],
   "source": [
    "lb = 20 # calls per hour\n",
    "Mu = 5  # calls served per agent per hour\n",
    "shift_hours = 8 # shift hours"
   ]
  },
  {
   "cell_type": "markdown",
   "id": "1b254040",
   "metadata": {},
   "source": [
    "λ (lambda): Call arrival rate, i.e., 20 calls expected per hour.\n",
    "\n",
    "μ (mu): Each agent is expected to handle 5 calls per hour.\n",
    "\n",
    "Shift Length: We simulate events within an 8-hour work period."
   ]
  },
  {
   "cell_type": "code",
   "execution_count": 6,
   "id": "d89739f1",
   "metadata": {},
   "outputs": [],
   "source": [
    "np.random.seed(1)"
   ]
  },
  {
   "cell_type": "code",
   "execution_count": 7,
   "id": "2034ef29",
   "metadata": {},
   "outputs": [],
   "source": [
    "# Time gaps between the events(call ariavals)\n",
    "inter = np.random.exponential(1/lb,size=int(lb*shift_hours * 1.5)) # It returns random time intervals between events, where shorter intervals are more likely"
   ]
  },
  {
   "cell_type": "markdown",
   "id": "ea8809c0",
   "metadata": {},
   "source": [
    "We use an exponential distribution to generate random time gaps between call arrivals.\n",
    "\n",
    "This distribution is suitable for modeling events that happen continuously and independently.\n",
    "\n",
    "We generate more values than expected (1.5×) to ensure we have enough valid arrivals within the shift.\n",
    "\n"
   ]
  },
  {
   "cell_type": "code",
   "execution_count": 8,
   "id": "6deee22a",
   "metadata": {},
   "outputs": [],
   "source": [
    "# gives you the exact times (during the shift) when customer calls arrive.\n",
    "arrivals = np.cumsum(inter) \n",
    "\n",
    "arrivals = arrivals[arrivals < shift_hours] "
   ]
  },
  {
   "cell_type": "markdown",
   "id": "3f0174a9",
   "metadata": {},
   "source": [
    "We calculate the cumulative sum of the time gaps to get the actual times (within the shift) when each call arrives.\n",
    "\n",
    "We filter out any calls that would have arrived after the 8-hour shift ends.\n",
    "\n"
   ]
  },
  {
   "cell_type": "code",
   "execution_count": 9,
   "id": "1771aa14",
   "metadata": {},
   "outputs": [],
   "source": [
    "N = len(arrivals)"
   ]
  },
  {
   "cell_type": "markdown",
   "id": "d4338e0b",
   "metadata": {},
   "source": [
    "This gives the total number of calls that arrived during the shift."
   ]
  },
  {
   "cell_type": "markdown",
   "id": "05aa1fc2",
   "metadata": {},
   "source": [
    "## Step 2\n",
    "**Simulate an M/M/s queue over an 8-hour shift, tracking each caller’s wait time and queue length**. "
   ]
  },
  {
   "cell_type": "markdown",
   "id": "cbbe11af",
   "metadata": {},
   "source": [
    "#### Simulating a Call Center with Agents\n",
    "\n",
    "This function models how calls are handled by a fixed number of agents over an 8-hour work shift. It simulates customer wait times, how many people are in the system at any moment, and how agents serve them using basic queueing logic."
   ]
  },
  {
   "cell_type": "code",
   "execution_count": 10,
   "id": "467db31b",
   "metadata": {},
   "outputs": [],
   "source": [
    "def simulate_time(s):\n",
    "    np.random.seed(1)\n",
    "    inter = np.random.exponential(1/lb,size=int(lb*shift_hours * 1.5))\n",
    "    arrivals = np.cumsum(inter) \n",
    "    arrivals = arrivals[arrivals < shift_hours] \n",
    "    N = len(arrivals)\n",
    "    services = np.random.exponential(1/Mu,N)\n",
    "    next_free = np.zeros(s)\n",
    "    wait_time = np.zeros(N)\n",
    "    system_size = np.zeros(N) # \n",
    "    dep_times = []\n",
    "    for i, t in enumerate(arrivals):\n",
    "        j = np.argmin(next_free) # Find the agent who is available first\n",
    "        start = max(t,next_free[j]) # start the call when the agent becomes free\n",
    "        wait_time[i] = start - t #calculate how long the customer waited\n",
    "        end = start + services[i] # when the service end\n",
    "        next_free[j] = end # update the agent available\n",
    "        dep_times.append(end)\n",
    "    \n",
    "        system_size[i] = np.sum(np.array(dep_times) > t) # no of customers in the system\n",
    "    \n",
    "    return wait_time,system_size    "
   ]
  },
  {
   "cell_type": "markdown",
   "id": "c03d8b27",
   "metadata": {},
   "source": [
    "wait_time[i]: how long caller i waited before being served.\n",
    "\n",
    "system_size[i]: how many people were in the system when call i arrived.\n",
    "\n",
    "dep_times: end times of completed services — used to calculate system size."
   ]
  },
  {
   "cell_type": "code",
   "execution_count": 11,
   "id": "a83d6681",
   "metadata": {},
   "outputs": [
    {
     "name": "stdout",
     "output_type": "stream",
     "text": [
      "Wait =  13.470535006616128\n",
      "system_size =  65.99386503067484\n"
     ]
    }
   ],
   "source": [
    "w1,q1 = simulate_time(s = 1)\n",
    "print('Wait = ',w1.mean())\n",
    "print('system_size = ',q1.mean())"
   ]
  },
  {
   "cell_type": "markdown",
   "id": "2bb283cc",
   "metadata": {},
   "source": [
    "How increasing the number of agents affects customer wait time.\n",
    "\n",
    "The average number of people in the system at any moment."
   ]
  },
  {
   "cell_type": "markdown",
   "id": "f9e7a700",
   "metadata": {},
   "source": [
    "## Step 3."
   ]
  },
  {
   "cell_type": "markdown",
   "id": "2dc24530",
   "metadata": {},
   "source": [
    "### Comparing M/M/1 Queue Analytics with Simulation Results\n",
    "\n",
    "To validate our simulation, we compare it against the theoretical results from M/M/1 queueing theory. This gives us insights into how closely our random simulation matches expected mathematical outcomes."
   ]
  },
  {
   "cell_type": "code",
   "execution_count": 12,
   "id": "e75e1db3",
   "metadata": {},
   "outputs": [],
   "source": [
    "p1 = lb/Mu # It tells you how “busy” the server is.\n",
    "L_annalytics = p1 / (1-p1) # This tells how many customers (on average) are in the system (both in line and being served).\n",
    "W_annalytics = L_annalytics/lb # This tells how long (on average) a customer spends in the system — both waiting and getting served."
   ]
  },
  {
   "cell_type": "markdown",
   "id": "9e16d749",
   "metadata": {},
   "source": [
    "L = p / (1 - p): Gives the average number of customers in the system (in queue + being served).\n",
    "\n",
    "W = L / λ: Gives the average time a customer spends in the system — includes both waiting time and service time."
   ]
  },
  {
   "cell_type": "code",
   "execution_count": 13,
   "id": "5aa76b5a",
   "metadata": {},
   "outputs": [
    {
     "name": "stdout",
     "output_type": "stream",
     "text": [
      "M/M/1 annlytic vs simulation:\n",
      "Annalytic system size L -1.33\n",
      "Simulated avg system size = 65.99\n",
      "Annalytic time size W = -4.0 min\n",
      "Simulated avg wait + service = 820.2 min\n"
     ]
    }
   ],
   "source": [
    "print('M/M/1 annlytic vs simulation:')\n",
    "print(f'Annalytic system size L {L_annalytics:.2f}')\n",
    "print(f'Simulated avg system size = {q1.mean():.2f}')\n",
    "print(f'Annalytic time size W = {W_annalytics*60:.1f} min')\n",
    "print(f'Simulated avg wait + service = {w1.mean()*60 + (1/Mu)*60:.1f} min')"
   ]
  },
  {
   "cell_type": "markdown",
   "id": "ee14aaff",
   "metadata": {},
   "source": [
    "We compare:\n",
    "\n",
    "- Theoretical system size vs simulated average number of customers.\n",
    "\n",
    "- Analytical time spent in system vs simulated total time (wait + service).\n",
    "\n",
    "- We multiply by 60 to express times in minutes."
   ]
  },
  {
   "cell_type": "markdown",
   "id": "bb4082e8",
   "metadata": {},
   "source": [
    "## Step 4"
   ]
  },
  {
   "cell_type": "markdown",
   "id": "c3171c84",
   "metadata": {},
   "source": [
    "### Evaluating Performance: How Many Agents Are Enough?\n",
    "In this section, we simulate the queueing system for 1 to 5 agents and evaluate how staffing impacts performance metrics like average wait time, 95th percentile wait, and system load."
   ]
  },
  {
   "cell_type": "code",
   "execution_count": 14,
   "id": "4458057a",
   "metadata": {},
   "outputs": [],
   "source": [
    "thresold = 5\n",
    "results = []"
   ]
  },
  {
   "cell_type": "markdown",
   "id": "3af63367",
   "metadata": {},
   "source": [
    " Our target maximum wait time (in minutes) — ideally, 95% of customers should wait less than this."
   ]
  },
  {
   "cell_type": "code",
   "execution_count": 15,
   "id": "e24caff9",
   "metadata": {},
   "outputs": [],
   "source": [
    "for s in range (1,6):\n",
    "    w,q = simulate_time(s)\n",
    "    waits_min = w*60\n",
    "    p95_wait = np.percentile(waits_min,95) # 95% of the customers will wait less than or equal to this amount of time.\n",
    "    results.append((s,waits_min.mean(),p95_wait,q.mean()))"
   ]
  },
  {
   "cell_type": "markdown",
   "id": "6a5b9658",
   "metadata": {},
   "source": [
    "We loop over different agent counts: from 1 to 5 workers.\n",
    "\n",
    "For each s (1 to 5):\n",
    "\n",
    "Convert wait times from hours to minutes.\n",
    "\n",
    "Compute:\n",
    "\n",
    "- waits_min.mean(): Average wait time.\n",
    "- p95_wait: 95th percentile wait time — only 5% of customers waited longer than this.\n",
    "- q.mean(): Average number of people in the system at any given time.\n",
    "\n",
    "These metrics are saved to the results list."
   ]
  },
  {
   "cell_type": "code",
   "execution_count": 16,
   "id": "cdab9544",
   "metadata": {},
   "outputs": [
    {
     "data": {
      "text/html": [
       "<div>\n",
       "<style scoped>\n",
       "    .dataframe tbody tr th:only-of-type {\n",
       "        vertical-align: middle;\n",
       "    }\n",
       "\n",
       "    .dataframe tbody tr th {\n",
       "        vertical-align: top;\n",
       "    }\n",
       "\n",
       "    .dataframe thead th {\n",
       "        text-align: right;\n",
       "    }\n",
       "</style>\n",
       "<table border=\"1\" class=\"dataframe\">\n",
       "  <thead>\n",
       "    <tr style=\"text-align: right;\">\n",
       "      <th></th>\n",
       "      <th>Workers</th>\n",
       "      <th>Avg wait(min)</th>\n",
       "      <th>95 percentile Wait</th>\n",
       "      <th>Avg System size</th>\n",
       "    </tr>\n",
       "  </thead>\n",
       "  <tbody>\n",
       "    <tr>\n",
       "      <th>0</th>\n",
       "      <td>1</td>\n",
       "      <td>808.232100</td>\n",
       "      <td>1488.275544</td>\n",
       "      <td>65.993865</td>\n",
       "    </tr>\n",
       "    <tr>\n",
       "      <th>1</th>\n",
       "      <td>2</td>\n",
       "      <td>284.004529</td>\n",
       "      <td>520.338714</td>\n",
       "      <td>49.042945</td>\n",
       "    </tr>\n",
       "    <tr>\n",
       "      <th>2</th>\n",
       "      <td>3</td>\n",
       "      <td>109.126322</td>\n",
       "      <td>191.268183</td>\n",
       "      <td>29.423313</td>\n",
       "    </tr>\n",
       "    <tr>\n",
       "      <th>3</th>\n",
       "      <td>4</td>\n",
       "      <td>23.259675</td>\n",
       "      <td>39.865347</td>\n",
       "      <td>11.846626</td>\n",
       "    </tr>\n",
       "    <tr>\n",
       "      <th>4</th>\n",
       "      <td>5</td>\n",
       "      <td>5.053611</td>\n",
       "      <td>15.062201</td>\n",
       "      <td>6.815951</td>\n",
       "    </tr>\n",
       "  </tbody>\n",
       "</table>\n",
       "</div>"
      ],
      "text/plain": [
       "   Workers  Avg wait(min)  95 percentile Wait  Avg System size\n",
       "0        1     808.232100         1488.275544        65.993865\n",
       "1        2     284.004529          520.338714        49.042945\n",
       "2        3     109.126322          191.268183        29.423313\n",
       "3        4      23.259675           39.865347        11.846626\n",
       "4        5       5.053611           15.062201         6.815951"
      ]
     },
     "execution_count": 16,
     "metadata": {},
     "output_type": "execute_result"
    }
   ],
   "source": [
    "import pandas as pd\n",
    "df = pd.DataFrame(results,columns = ['Workers','Avg wait(min)','95 percentile Wait','Avg System size'])\n",
    "df"
   ]
  },
  {
   "cell_type": "markdown",
   "id": "7c7d030c",
   "metadata": {},
   "source": [
    "Converting the result to a Dataframe so that we can clearly see all Data together"
   ]
  },
  {
   "cell_type": "markdown",
   "id": "f02b8bf6",
   "metadata": {},
   "source": [
    "### The Final Section"
   ]
  },
  {
   "cell_type": "code",
   "execution_count": 17,
   "id": "9fafa8e6",
   "metadata": {},
   "outputs": [
    {
     "name": "stdout",
     "output_type": "stream",
     "text": [
      "5 are enough for our 95% wait target\n"
     ]
    }
   ],
   "source": [
    "good = df[df['95 percentile Wait'] <= thresold]\n",
    "if good.empty:\n",
    "    print(f'{df.iloc[-1,0]} are enough for our 95% wait target')\n",
    "else:\n",
    "    print(f'{df.iloc[-1,0]} are not enough for our 95% wait target')"
   ]
  },
  {
   "cell_type": "markdown",
   "id": "e48e7d48",
   "metadata": {},
   "source": [
    "This final section of the code evaluates whether the staffing levels we've simulated are sufficient to meet a specific service quality goal—ensuring that 95% of customers wait no more than five minutes. It does so by filtering the results to see which agent counts achieve this target. If no staffing configuration from 1 to 5 agents meets the threshold, the code prints that even five agents are not enough. Otherwise, it confirms that five agents are sufficient. This simple conditional logic transforms the simulation results into a clear operational decision, helping us assess whether our call center is adequately staffed or needs more resources to maintain acceptable service levels."
   ]
  },
  {
   "cell_type": "markdown",
   "id": "f10336ce",
   "metadata": {},
   "source": [
    "### Vizualizing the wait time of agents (1-5)"
   ]
  },
  {
   "cell_type": "code",
   "execution_count": 30,
   "id": "90d1d2c3",
   "metadata": {},
   "outputs": [
    {
     "data": {
      "image/png": "[encoded data removed]",
      "text/plain": [
       "<Figure size 1200x600 with 1 Axes>"
      ]
     },
     "metadata": {},
     "output_type": "display_data"
    }
   ],
   "source": [
    "plt.figure(figsize=(12,6))\n",
    "for s in [1,2,3,4,5]:\n",
    "    w,j = simulate_time(s)\n",
    "    plt.hist(w*60, bins=60, alpha=0.6, label=f'Agent {s}')\n",
    "plt.ylim((0, 20))\n",
    "plt.xlim((0,1200))\n",
    "plt.xlabel('Wait Time (min)')\n",
    "plt.ylabel('Frequency')\n",
    "plt.title('Wait Time Distribution for Different Agents')\n",
    "plt.legend()\n",
    "plt.show()\n"
   ]
  },
  {
   "cell_type": "code",
   "execution_count": null,
   "id": "20df4da2",
   "metadata": {},
   "outputs": [],
   "source": []
  }
 ],
 "metadata": {
  "kernelspec": {
   "display_name": "Python 3",
   "language": "python",
   "name": "python3"
  },
  "language_info": {
   "codemirror_mode": {
    "name": "ipython",
    "version": 3
   },
   "file_extension": ".py",
   "mimetype": "text/x-python",
   "name": "python",
   "nbconvert_exporter": "python",
   "pygments_lexer": "ipython3",
   "version": "3.12.4"
  }
 },
 "nbformat": 4,
 "nbformat_minor": 5
}
