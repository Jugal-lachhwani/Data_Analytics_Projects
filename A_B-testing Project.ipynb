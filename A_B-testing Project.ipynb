{
 "cells": [
  {
   "cell_type": "markdown",
   "id": "a9b71c42",
   "metadata": {},
   "source": [
    "### Problem:\n",
    "#### An e-commerce startup wants to know if a new checkout funnel (B) outperforms the old one (A)."
   ]
  },
  {
   "cell_type": "code",
   "execution_count": 1,
   "id": "c66c7950",
   "metadata": {},
   "outputs": [],
   "source": [
    "import numpy as np\n",
    "import pandas as pd\n",
    "import matplotlib.pyplot as plt\n",
    "import seaborn as sns\n",
    "\n",
    "from scipy import stats\n",
    "from statsmodels.stats.proportion import proportions_ztest"
   ]
  },
  {
   "cell_type": "markdown",
   "id": "7e7dd519",
   "metadata": {},
   "source": [
    "#### Step 1 \n",
    "- Simulate click‐through data (visits vs. purchases) for A and B."
   ]
  },
  {
   "cell_type": "code",
   "execution_count": 2,
   "id": "273e6471",
   "metadata": {},
   "outputs": [],
   "source": [
    "n_A = 15000\n",
    "n_B = 15000\n",
    "P_A = 0.12\n",
    "P_B = 0.14"
   ]
  },
  {
   "cell_type": "code",
   "execution_count": 3,
   "id": "331ed23a",
   "metadata": {},
   "outputs": [],
   "source": [
    "np.random.seed(42)"
   ]
  },
  {
   "cell_type": "code",
   "execution_count": 4,
   "id": "a452f2eb",
   "metadata": {},
   "outputs": [],
   "source": [
    "success_A = np.random.binomial(n_A,P_A)\n",
    "success_B = np.random.binomial(n_B,P_B)"
   ]
  },
  {
   "cell_type": "code",
   "execution_count": 5,
   "id": "e38847ed",
   "metadata": {},
   "outputs": [
    {
     "name": "stdout",
     "output_type": "stream",
     "text": [
      "Success of A =  1763\n",
      "Success of B =  2135\n"
     ]
    }
   ],
   "source": [
    "print(\"Success of A = \",success_A)\n",
    "print(\"Success of B = \",success_B)"
   ]
  },
  {
   "cell_type": "markdown",
   "id": "fbd5f546",
   "metadata": {},
   "source": [
    "___________________________________________________"
   ]
  },
  {
   "cell_type": "markdown",
   "id": "ac66b98f",
   "metadata": {},
   "source": [
    "#### Step 2\n",
    "- Calculate conversion rates and 95% confidence intervals."
   ]
  },
  {
   "cell_type": "markdown",
   "id": "d4fb1178",
   "metadata": {},
   "source": [
    "We are ,aking a function for calculating the the 95% confidence interval and conversion rates"
   ]
  },
  {
   "cell_type": "code",
   "execution_count": 6,
   "id": "39bba330",
   "metadata": {},
   "outputs": [],
   "source": [
    "def proportion(success,n,alpha=0.05):\n",
    "    p_hat = success/n\n",
    "    z = stats.norm.ppf(1 - alpha/2)\n",
    "    se = np.sqrt(p_hat * (1- p_hat)/n)\n",
    "    return p_hat,p_hat - z*se,p_hat+z*se"
   ]
  },
  {
   "cell_type": "code",
   "execution_count": 7,
   "id": "8d8bfe73",
   "metadata": {},
   "outputs": [],
   "source": [
    "p_A_hat,ci_low_A,ci_high_A = proportion(success_A,n_A)\n",
    "p_B_hat,ci_low_B,ci_high_B = proportion(success_B,n_B)"
   ]
  },
  {
   "cell_type": "code",
   "execution_count": 8,
   "id": "01950581",
   "metadata": {},
   "outputs": [
    {
     "name": "stdout",
     "output_type": "stream",
     "text": [
      "Conversion Rate of A : 0.118\n",
      "Conversion Rate of B : 0.142\n",
      "Confidence Interval of A : (0.112,0.123)\n",
      "Confidence Interval of B : (0.137,0.148)\n"
     ]
    }
   ],
   "source": [
    "print(f\"Conversion Rate of A : {p_A_hat:.3f}\\nConversion Rate of B : {p_B_hat:.3f}\")\n",
    "print(f\"Confidence Interval of A : ({ci_low_A:.3f},{ci_high_A:.3f})\")\n",
    "print(f\"Confidence Interval of B : ({ci_low_B:.3f},{ci_high_B:.3f})\")"
   ]
  },
  {
   "cell_type": "markdown",
   "id": "8ff4d072",
   "metadata": {},
   "source": [
    "Here as we can see B has a quiet higher conversion rates than A"
   ]
  },
  {
   "cell_type": "markdown",
   "id": "b63cdedb",
   "metadata": {},
   "source": [
    "___________________________________________________"
   ]
  },
  {
   "cell_type": "markdown",
   "id": "fda938b5",
   "metadata": {},
   "source": [
    "#### Step 4\n",
    "- Plot conversion rates with error bars."
   ]
  },
  {
   "cell_type": "markdown",
   "id": "11501bb5",
   "metadata": {},
   "source": [
    "Here we are plotting the conversion rates with the errors. By plotting we can be more clear about the difference "
   ]
  },
  {
   "cell_type": "code",
   "execution_count": null,
   "id": "8b2d4a59",
   "metadata": {},
   "outputs": [],
   "source": [
    "# A results DataFrame for help in ploting and summarizing what we have find tin now\n",
    "results = pd.DataFrame({\n",
    "    'Variant': ['A','B'],\n",
    "    'Visitors': [n_A,n_B],\n",
    "    'Conversions': [success_A,success_B],\n",
    "    'CR(p_hat)': [p_A_hat,p_B_hat],\n",
    "    'CI Lower (95%)':[ci_low_A, ci_low_B],\n",
    "    'CI Upper (95%)':[ci_high_A,ci_high_B],\n",
    "})"
   ]
  },
  {
   "cell_type": "code",
   "execution_count": 10,
   "id": "cf812833",
   "metadata": {},
   "outputs": [
    {
     "data": {
      "text/html": [
       "<div>\n",
       "<style scoped>\n",
       "    .dataframe tbody tr th:only-of-type {\n",
       "        vertical-align: middle;\n",
       "    }\n",
       "\n",
       "    .dataframe tbody tr th {\n",
       "        vertical-align: top;\n",
       "    }\n",
       "\n",
       "    .dataframe thead th {\n",
       "        text-align: right;\n",
       "    }\n",
       "</style>\n",
       "<table border=\"1\" class=\"dataframe\">\n",
       "  <thead>\n",
       "    <tr style=\"text-align: right;\">\n",
       "      <th></th>\n",
       "      <th>Variant</th>\n",
       "      <th>Visitors</th>\n",
       "      <th>Conversions</th>\n",
       "      <th>CR(p_hat)</th>\n",
       "      <th>CI Lower (95%)</th>\n",
       "      <th>CI Upper (95%)</th>\n",
       "    </tr>\n",
       "  </thead>\n",
       "  <tbody>\n",
       "    <tr>\n",
       "      <th>0</th>\n",
       "      <td>A</td>\n",
       "      <td>15000</td>\n",
       "      <td>1763</td>\n",
       "      <td>0.117533</td>\n",
       "      <td>0.112379</td>\n",
       "      <td>0.122687</td>\n",
       "    </tr>\n",
       "    <tr>\n",
       "      <th>1</th>\n",
       "      <td>B</td>\n",
       "      <td>15000</td>\n",
       "      <td>2135</td>\n",
       "      <td>0.142333</td>\n",
       "      <td>0.136742</td>\n",
       "      <td>0.147925</td>\n",
       "    </tr>\n",
       "  </tbody>\n",
       "</table>\n",
       "</div>"
      ],
      "text/plain": [
       "  Variant  Visitors  Conversions  CR(p_hat)  CI Lower (95%)  CI Upper (95%)\n",
       "0       A     15000         1763   0.117533        0.112379        0.122687\n",
       "1       B     15000         2135   0.142333        0.136742        0.147925"
      ]
     },
     "execution_count": 10,
     "metadata": {},
     "output_type": "execute_result"
    }
   ],
   "source": [
    "results"
   ]
  },
  {
   "cell_type": "code",
   "execution_count": 11,
   "id": "f58c7250",
   "metadata": {},
   "outputs": [
    {
     "data": {
      "image/png": "[encoded data removed]",
      "text/plain": [
       "<Figure size 800x600 with 1 Axes>"
      ]
     },
     "metadata": {},
     "output_type": "display_data"
    }
   ],
   "source": [
    "plt.figure(figsize=(8, 6))\n",
    "\n",
    "error_lower = results['CR(p_hat)'] - results['CI Lower (95%)']\n",
    "error_upper = results['CI Upper (95%)'] - results['CR(p_hat)']\n",
    "error = [error_lower, error_upper]\n",
    "\n",
    "plt.bar(\n",
    "    results['Variant'],\n",
    "    results['CR(p_hat)'],\n",
    "    yerr=error,\n",
    "    capsize=8,\n",
    "    color=['skyblue', 'salmon'],\n",
    "    edgecolor='black',\n",
    "    linewidth=1.2\n",
    ")\n",
    "\n",
    "plt.ylabel('Conversion Rate')\n",
    "plt.title('Conversion Rates with 95% Confidence Intervals')\n",
    "plt.grid(axis='y', linestyle='--', alpha=0.7)\n",
    "plt.ylim(0, max(results['CI Upper (95%)']) + 0.05)\n",
    "\n",
    "for idx, row in results.iterrows():\n",
    "    plt.text(\n",
    "        row['Variant'],\n",
    "        row['CR(p_hat)'] + 0.01,\n",
    "        f\"{row['CR(p_hat)']:.3f}\",\n",
    "        ha='center',\n",
    "        fontweight='bold'\n",
    "    )\n",
    "\n",
    "plt.show()\n"
   ]
  },
  {
   "cell_type": "markdown",
   "id": "6d593765",
   "metadata": {},
   "source": [
    "Here we can clearly see there is quiet a differnce between B and A "
   ]
  },
  {
   "cell_type": "markdown",
   "id": "6ab9145c",
   "metadata": {},
   "source": [
    "#### Step 4:\n",
    "- Perform a two‐proportion z‐test to see if B beats A."
   ]
  },
  {
   "cell_type": "code",
   "execution_count": 16,
   "id": "fce84f94",
   "metadata": {},
   "outputs": [
    {
     "name": "stdout",
     "output_type": "stream",
     "text": [
      "Z-statistic : 6.388\n",
      "P-value     : 8.418955796461037e-11\n"
     ]
    }
   ],
   "source": [
    "from statsmodels.stats.proportion import proportions_ztest\n",
    "count = np.array([success_B,success_A])\n",
    "nobs = np.array([n_A,n_B])\n",
    "z_stat, p_value = proportions_ztest(count,nobs,alternative = 'larger')\n",
    "print(f\"Z-statistic : {z_stat:.3f}\")\n",
    "print(f\"P-value     : {p_value}\")"
   ]
  },
  {
   "cell_type": "markdown",
   "id": "1ec864d6",
   "metadata": {},
   "source": [
    "**The p - value is very small** hence we can say from this study that B is performing significantly better than A"
   ]
  },
  {
   "cell_type": "code",
   "execution_count": 13,
   "id": "a2f33da4",
   "metadata": {},
   "outputs": [
    {
     "name": "stdout",
     "output_type": "stream",
     "text": [
      "Reject H0: Variant B have significantly higher conversion rate then Varient A\n"
     ]
    }
   ],
   "source": [
    "if p_value < 0.05:\n",
    "    print(\"Reject H0: Variant B have significantly higher conversion rate then Varient A\")\n",
    "else:\n",
    "    print(\"Fai to reject H0: Variant B does not have higher conversion rate then Varient A\")"
   ]
  },
  {
   "cell_type": "markdown",
   "id": "401cc1aa",
   "metadata": {},
   "source": [
    "But this is not enough we beed to see the performance of both A and B in Real time"
   ]
  },
  {
   "cell_type": "markdown",
   "id": "2afda0a2",
   "metadata": {},
   "source": [
    "#### Step 5\n",
    "\n",
    "- Real-Time Monitoring & Sequential Testing"
   ]
  },
  {
   "cell_type": "code",
   "execution_count": 14,
   "id": "fa3ede96",
   "metadata": {},
   "outputs": [
    {
     "name": "stdout",
     "output_type": "stream",
     "text": [
      "Batch 60/60\n",
      " Variant A: 12000 visits, 1390 buys -> CR = 11.583%\n",
      " Variant B: 12000 visits, 1722 buys -> CR = 14.350%\n",
      " Observed lift: 2.767%\n",
      " z-stat = 6.38, p-value = 0.0000\n",
      " ✅ Significant lift detected (p<0.05).\n"
     ]
    }
   ],
   "source": [
    "import time\n",
    "\n",
    "np.random.seed(1)\n",
    "\n",
    "true_p_A,true_p_B = 0.12,0.14\n",
    "batch_size =200\n",
    "n_batches = 60\n",
    "\n",
    "n_visits_A = n_visits_B = 0\n",
    "n_succ_A = n_succ_B = 0\n",
    "\n",
    "batches = []\n",
    "p_values = []\n",
    "lifts = []\n",
    "\n",
    "SD = 0\n",
    "NSD = 0\n",
    "for batch in range(1,n_batches+1):\n",
    "    new_A = np.random.binomial(batch_size,true_p_A)\n",
    "    new_B = np.random.binomial(batch_size,true_p_B)\n",
    "    \n",
    "    n_visits_A += batch_size\n",
    "    n_visits_B += batch_size\n",
    "    n_succ_A += new_A\n",
    "    n_succ_B += new_B\n",
    "    \n",
    "    cr_A = n_succ_A/n_visits_A\n",
    "    cr_B = n_succ_B/n_visits_B\n",
    "    lift = cr_B - cr_A\n",
    "    \n",
    "    count = np.array([n_succ_B,n_succ_A])\n",
    "    nobs = np.array([n_visits_B,n_visits_A])\n",
    "    z_stat, p_value = proportions_ztest(count,nobs,alternative = 'larger')\n",
    "    \n",
    "    batches.append(batch)\n",
    "    p_values.append(p_value)\n",
    "    lifts.append(lift)\n",
    "    \n",
    "print(f\"Batch {batch}/{n_batches}\")\n",
    "print(f\" Variant A: {n_visits_A} visits, {n_succ_A} buys -> CR = {cr_A:.3%}\")\n",
    "print(f\" Variant B: {n_visits_B} visits, {n_succ_B} buys -> CR = {cr_B:.3%}\")\n",
    "print(f\" Observed lift: {lift:.3%}\")\n",
    "print(f\" z-stat = {z_stat:.2f}, p-value = {p_value:.4f}\")\n",
    "if p_value < 0.05:\n",
    "    print(\" ✅ Significant lift detected (p<0.05).\")\n",
    "else:\n",
    "    print(\" ❌ No significant lift yet.\")"
   ]
  },
  {
   "cell_type": "markdown",
   "id": "f1d50385",
   "metadata": {},
   "source": [
    "Here is the plot for better understanding "
   ]
  },
  {
   "cell_type": "code",
   "execution_count": 15,
   "id": "7a2fa65a",
   "metadata": {},
   "outputs": [
    {
     "data": {
      "image/png": "[encoded data removed]",
      "text/plain": [
       "<Figure size 640x480 with 1 Axes>"
      ]
     },
     "metadata": {},
     "output_type": "display_data"
    }
   ],
   "source": [
    "plt.plot(batches,p_values,'-r',label = 'p_values')\n",
    "plt.plot(batches,lifts,'-b',label = 'lifts')\n",
    "plt.legend()\n",
    "plt.xlabel('Batch Number')\n",
    "plt.ylabel('Value')\n",
    "plt.title('P-values and Observed Lift over Batches')\n",
    "\n",
    "plt.show()"
   ]
  },
  {
   "cell_type": "markdown",
   "id": "0295aaef",
   "metadata": {},
   "source": [
    "#### Explaination of plot\n",
    "\n",
    "- The plot shows how the p-values and the observed lift change over the 60 batches in our simulation.\n",
    "\n",
    "- The red line represents the p-values. It quickly drops and stabilizes at zero, indicating that the difference in conversion rates between Variant A and Variant B becomes statistically significant\n",
    "\n",
    "- The blue line represents the observed lift, which measures the improvement of Variant B over Variant A."
   ]
  },
  {
   "cell_type": "markdown",
   "id": "61b77e36",
   "metadata": {},
   "source": [
    "#### Final conclusion"
   ]
  },
  {
   "cell_type": "markdown",
   "id": "7117bcfd",
   "metadata": {},
   "source": [
    "This simulation was designed to evaluate whether Variant B consistently outperforms Variant A in terms of conversion rate across multiple test batches.\n",
    "\n",
    "By incrementally adding new data, we were able to calculate the conversion rates and lift between the two variants over time. \n",
    "At each step, we also conducted a statistical test (the z-test for proportions) to assess whether any observed lift was significant.\n",
    "\n",
    "The final results show that Variant B achieved a **conversion rate of 14.350%**, while Variant A had a **conversion rate of 11.583% with a significant lift of 2.767%**. \n",
    "Which makes the p-value zero, indicating that the observed difference is significant.\n"
   ]
  }
 ],
 "metadata": {
  "kernelspec": {
   "display_name": "Python 3",
   "language": "python",
   "name": "python3"
  },
  "language_info": {
   "codemirror_mode": {
    "name": "ipython",
    "version": 3
   },
   "file_extension": ".py",
   "mimetype": "text/x-python",
   "name": "python",
   "nbconvert_exporter": "python",
   "pygments_lexer": "ipython3",
   "version": "3.12.4"
  }
 },
 "nbformat": 4,
 "nbformat_minor": 5
}
