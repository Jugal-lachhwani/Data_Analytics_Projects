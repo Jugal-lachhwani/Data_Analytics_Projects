{
  "cells": [
    {
      "cell_type": "markdown",
      "metadata": {
        "id": "VfX775smQHkZ"
      },
      "source": [
        "## Clinical-Trial Survival Analysis for Treatment Efficiency"
      ]
    },
    {
      "cell_type": "markdown",
      "metadata": {
        "id": "97JZUVz4Kp_8"
      },
      "source": [
        "## About This Project\n",
        "\n",
        "This project focuses on Survival Analysis, a powerful set of statistical methods used to analyze the time until an event occurs—such as death, disease recurrence, or recovery. It is widely applied in clinical research, public health, and many fields where understanding “time-to-event” data is crucial.\n",
        "\n",
        "In this project, we use a dataset (the same one provided in our online session) to explore how different treatments influence survival time. The goal is to:\n",
        "\n",
        "Estimate survival probabilities over time\n",
        "\n",
        "Statistically compare treatments\n",
        "\n",
        "Identify factors affecting patient outcomes\n",
        "\n",
        "Handle real-world complexities like time-varying risks and competing events"
      ]
    },
    {
      "cell_type": "markdown",
      "metadata": {
        "id": "BH3Sh82id9Ia"
      },
      "source": [
        "## Methods Used\n",
        "1. Kaplan–Meier Survival Curves: \n",
        "  Used to visually represent the survival probability over time for different treatment groups.Gives a first look at which treatment might be more effective.\n",
        "\n",
        "2. Log-Rank Test: \n",
        "   A hypothesis test to compare survival curves. Helps assess whether the differences seen in Kaplan-Meier plots are statistically significant.\n",
        "\n",
        "3. Cox Proportional Hazards Model: A regression model that assesses how multiple factors (covariates) impact survival. Outputs hazard ratios for each covariate, showing their influence on risk. Assumes the effect of   variables does not change over time.\n",
        "\n",
        "4. Time-Varying Covariate Model: An extension of the Cox model to handle changing patient conditions. More realistic for clinical settings where a patient’s status (e.g., blood pressure) may change during the study.\n",
        "\n",
        "5. Stratified Cox Model: Used when some variables (like age group or gender) affect baseline risk differently Allows different baseline hazards across strata, while still estimating other covariates' effects.\n",
        "\n",
        "6. Competing Risks Model: Recognizes that a patient may experience different types of events (e.g., death from different causes). Provides more accurate survival probabilities when multiple outcomes are possible."
      ]
    },
    {
      "cell_type": "markdown",
      "metadata": {},
      "source": [
        "Installing quiet used in this project"
      ]
    },
    {
      "cell_type": "code",
      "execution_count": 1,
      "metadata": {
        "colab": {
          "base_uri": "https://localhost:8080/"
        },
        "id": "HxvYYjFIWVuZ",
        "outputId": "4ca354d8-fd8e-4438-c814-87478794df99"
      },
      "outputs": [
        {
          "name": "stderr",
          "output_type": "stream",
          "text": [
            "  DEPRECATION: Building 'autograd-gamma' using the legacy setup.py bdist_wheel mechanism, which will be removed in a future version. pip 25.3 will enforce this behaviour change. A possible replacement is to use the standardized build interface by setting the `--use-pep517` option, (possibly combined with `--no-build-isolation`), or adding a `pyproject.toml` file to the source tree of 'autograd-gamma'. Discussion can be found at https://github.com/pypa/pip/issues/6334\n"
          ]
        }
      ],
      "source": [
        "!pip install lifelines --quiet"
      ]
    },
    {
      "cell_type": "markdown",
      "metadata": {
        "id": "lxMzyyC8vU2k"
      },
      "source": [
        "The **lifelines** package offers essential tools for survival analysis, including:\n",
        "\n",
        "- **KaplanMeierFitter** – for estimating non-parametric survival curves.\n",
        "- **CoxPHFitter** – for performing regression analysis on survival data using the Cox Proportional Hazards model.\n",
        "- **logrank_test** – for statistically comparing survival functions between different groups."
      ]
    },
    {
      "cell_type": "code",
      "execution_count": 2,
      "metadata": {
        "id": "_6oQJQjfP8If"
      },
      "outputs": [],
      "source": [
        "from lifelines import KaplanMeierFitter,CoxPHFitter\n",
        "from lifelines.statistics import logrank_test\n",
        "import pandas as pd\n",
        "import numpy as np\n",
        "import matplotlib.pyplot as plt\n",
        "import seaborn as sns"
      ]
    },
    {
      "cell_type": "code",
      "execution_count": 3,
      "metadata": {
        "colab": {
          "base_uri": "https://localhost:8080/",
          "height": 424
        },
        "id": "ZpSVMAsIZlxR",
        "outputId": "bee528ba-0a26-43cb-e2bc-842cb96a500f"
      },
      "outputs": [
        {
          "data": {
            "text/html": [
              "<div>\n",
              "<style scoped>\n",
              "    .dataframe tbody tr th:only-of-type {\n",
              "        vertical-align: middle;\n",
              "    }\n",
              "\n",
              "    .dataframe tbody tr th {\n",
              "        vertical-align: top;\n",
              "    }\n",
              "\n",
              "    .dataframe thead th {\n",
              "        text-align: right;\n",
              "    }\n",
              "</style>\n",
              "<table border=\"1\" class=\"dataframe\">\n",
              "  <thead>\n",
              "    <tr style=\"text-align: right;\">\n",
              "      <th></th>\n",
              "      <th>ID</th>\n",
              "      <th>TIME</th>\n",
              "      <th>Y</th>\n",
              "      <th>trt</th>\n",
              "      <th>celltype</th>\n",
              "      <th>karno</th>\n",
              "      <th>diagtime</th>\n",
              "      <th>age</th>\n",
              "      <th>priortherapy</th>\n",
              "    </tr>\n",
              "  </thead>\n",
              "  <tbody>\n",
              "    <tr>\n",
              "      <th>0</th>\n",
              "      <td>1</td>\n",
              "      <td>0</td>\n",
              "      <td>0</td>\n",
              "      <td>standard</td>\n",
              "      <td>squamous</td>\n",
              "      <td>60</td>\n",
              "      <td>7</td>\n",
              "      <td>69</td>\n",
              "      <td>no</td>\n",
              "    </tr>\n",
              "    <tr>\n",
              "      <th>1</th>\n",
              "      <td>1</td>\n",
              "      <td>72</td>\n",
              "      <td>1</td>\n",
              "      <td>standard</td>\n",
              "      <td>squamous</td>\n",
              "      <td>60</td>\n",
              "      <td>7</td>\n",
              "      <td>69</td>\n",
              "      <td>no</td>\n",
              "    </tr>\n",
              "    <tr>\n",
              "      <th>2</th>\n",
              "      <td>2</td>\n",
              "      <td>0</td>\n",
              "      <td>0</td>\n",
              "      <td>standard</td>\n",
              "      <td>squamous</td>\n",
              "      <td>70</td>\n",
              "      <td>5</td>\n",
              "      <td>64</td>\n",
              "      <td>yes</td>\n",
              "    </tr>\n",
              "    <tr>\n",
              "      <th>3</th>\n",
              "      <td>2</td>\n",
              "      <td>411</td>\n",
              "      <td>1</td>\n",
              "      <td>standard</td>\n",
              "      <td>squamous</td>\n",
              "      <td>70</td>\n",
              "      <td>5</td>\n",
              "      <td>64</td>\n",
              "      <td>yes</td>\n",
              "    </tr>\n",
              "    <tr>\n",
              "      <th>4</th>\n",
              "      <td>3</td>\n",
              "      <td>0</td>\n",
              "      <td>0</td>\n",
              "      <td>standard</td>\n",
              "      <td>squamous</td>\n",
              "      <td>60</td>\n",
              "      <td>3</td>\n",
              "      <td>38</td>\n",
              "      <td>no</td>\n",
              "    </tr>\n",
              "    <tr>\n",
              "      <th>...</th>\n",
              "      <td>...</td>\n",
              "      <td>...</td>\n",
              "      <td>...</td>\n",
              "      <td>...</td>\n",
              "      <td>...</td>\n",
              "      <td>...</td>\n",
              "      <td>...</td>\n",
              "      <td>...</td>\n",
              "      <td>...</td>\n",
              "    </tr>\n",
              "    <tr>\n",
              "      <th>269</th>\n",
              "      <td>135</td>\n",
              "      <td>231</td>\n",
              "      <td>1</td>\n",
              "      <td>test</td>\n",
              "      <td>large</td>\n",
              "      <td>70</td>\n",
              "      <td>18</td>\n",
              "      <td>67</td>\n",
              "      <td>yes</td>\n",
              "    </tr>\n",
              "    <tr>\n",
              "      <th>270</th>\n",
              "      <td>136</td>\n",
              "      <td>0</td>\n",
              "      <td>0</td>\n",
              "      <td>test</td>\n",
              "      <td>large</td>\n",
              "      <td>80</td>\n",
              "      <td>4</td>\n",
              "      <td>65</td>\n",
              "      <td>no</td>\n",
              "    </tr>\n",
              "    <tr>\n",
              "      <th>271</th>\n",
              "      <td>136</td>\n",
              "      <td>378</td>\n",
              "      <td>1</td>\n",
              "      <td>test</td>\n",
              "      <td>large</td>\n",
              "      <td>80</td>\n",
              "      <td>4</td>\n",
              "      <td>65</td>\n",
              "      <td>no</td>\n",
              "    </tr>\n",
              "    <tr>\n",
              "      <th>272</th>\n",
              "      <td>137</td>\n",
              "      <td>0</td>\n",
              "      <td>0</td>\n",
              "      <td>test</td>\n",
              "      <td>large</td>\n",
              "      <td>30</td>\n",
              "      <td>3</td>\n",
              "      <td>37</td>\n",
              "      <td>no</td>\n",
              "    </tr>\n",
              "    <tr>\n",
              "      <th>273</th>\n",
              "      <td>137</td>\n",
              "      <td>49</td>\n",
              "      <td>1</td>\n",
              "      <td>test</td>\n",
              "      <td>large</td>\n",
              "      <td>30</td>\n",
              "      <td>3</td>\n",
              "      <td>37</td>\n",
              "      <td>no</td>\n",
              "    </tr>\n",
              "  </tbody>\n",
              "</table>\n",
              "<p>274 rows × 9 columns</p>\n",
              "</div>"
            ],
            "text/plain": [
              "      ID  TIME  Y       trt  celltype  karno  diagtime  age priortherapy\n",
              "0      1     0  0  standard  squamous     60         7   69           no\n",
              "1      1    72  1  standard  squamous     60         7   69           no\n",
              "2      2     0  0  standard  squamous     70         5   64          yes\n",
              "3      2   411  1  standard  squamous     70         5   64          yes\n",
              "4      3     0  0  standard  squamous     60         3   38           no\n",
              "..   ...   ... ..       ...       ...    ...       ...  ...          ...\n",
              "269  135   231  1      test     large     70        18   67          yes\n",
              "270  136     0  0      test     large     80         4   65           no\n",
              "271  136   378  1      test     large     80         4   65           no\n",
              "272  137     0  0      test     large     30         3   37           no\n",
              "273  137    49  1      test     large     30         3   37           no\n",
              "\n",
              "[274 rows x 9 columns]"
            ]
          },
          "execution_count": 3,
          "metadata": {},
          "output_type": "execute_result"
        }
      ],
      "source": [
        "df=pd.read_csv('https://samatrix-data.s3.ap-south-1.amazonaws.com/Statistics-Project/veteran.csv')\n",
        "df"
      ]
    },
    {
      "cell_type": "code",
      "execution_count": 4,
      "metadata": {
        "colab": {
          "base_uri": "https://localhost:8080/"
        },
        "id": "CA8rncj_ePOg",
        "outputId": "c7326bb8-fc76-4e5e-a3cc-3dc435033c29"
      },
      "outputs": [
        {
          "name": "stdout",
          "output_type": "stream",
          "text": [
            "<class 'pandas.core.frame.DataFrame'>\n",
            "RangeIndex: 274 entries, 0 to 273\n",
            "Data columns (total 9 columns):\n",
            " #   Column        Non-Null Count  Dtype \n",
            "---  ------        --------------  ----- \n",
            " 0   ID            274 non-null    int64 \n",
            " 1   TIME          274 non-null    int64 \n",
            " 2   Y             274 non-null    int64 \n",
            " 3   trt           274 non-null    object\n",
            " 4   celltype      274 non-null    object\n",
            " 5   karno         274 non-null    int64 \n",
            " 6   diagtime      274 non-null    int64 \n",
            " 7   age           274 non-null    int64 \n",
            " 8   priortherapy  274 non-null    object\n",
            "dtypes: int64(6), object(3)\n",
            "memory usage: 19.4+ KB\n"
          ]
        }
      ],
      "source": [
        "df.info()"
      ]
    },
    {
      "cell_type": "markdown",
      "metadata": {},
      "source": [
        "## 1. Kaplan–Meier Survival Curve\n",
        "\n",
        "\n",
        "The Kaplan-Meier method is a simple yet powerful tool used to estimate how long individuals remain free from a specific event, like death or relapse. It creates a step-like graph called a survival curve, which shows the chance of surviving over time. One of its strengths is that it works well even when some participants drop out or haven’t experienced the event by the end of the study (this is called censored data). This method is especially helpful when comparing how different treatments affect survival.\n",
        "\n",
        "Purpose: Estimate the probability of survival over time, even when some data is censored (i.e., the event hasn't occurred for some subjects during the study period).\n"
      ]
    },
    {
      "cell_type": "code",
      "execution_count": 5,
      "metadata": {
        "colab": {
          "base_uri": "https://localhost:8080/",
          "height": 472
        },
        "id": "RT0G85Z5fczA",
        "outputId": "89fb220b-4a13-4c83-d055-bd88609ef522"
      },
      "outputs": [
        {
          "data": {
            "image/png": "[encoded data removed]",
            "text/plain": [
              "<Figure size 640x480 with 1 Axes>"
            ]
          },
          "metadata": {},
          "output_type": "display_data"
        }
      ],
      "source": [
        "kmf=KaplanMeierFitter()\n",
        "#separate your event(y=1 or y=0)\n",
        "df_event=df[df['Y']==1]\n",
        "\n",
        "#for overall patient curve\n",
        "kmf.fit(durations=df_event['TIME'],event_observed=df_event['Y'])\n",
        "kmf.plot_survival_function()\n",
        "plt.title('Overall Patient curve')\n",
        "plt.show()"
      ]
    },
    {
      "cell_type": "markdown",
      "metadata": {},
      "source": [
        "### Comparing Patient Survival Rates: Treated vs. Untreated Groups"
      ]
    },
    {
      "cell_type": "code",
      "execution_count": 6,
      "metadata": {
        "colab": {
          "base_uri": "https://localhost:8080/",
          "height": 472
        },
        "id": "UmqGTku_REty",
        "outputId": "29d2ed82-f21d-4ad9-c279-8a1142bd8585"
      },
      "outputs": [
        {
          "data": {
            "image/png": "[encoded data removed]",
            "text/plain": [
              "<Figure size 640x480 with 1 Axes>"
            ]
          },
          "metadata": {},
          "output_type": "display_data"
        }
      ],
      "source": [
        "#curve according to treatment group\n",
        "for trt_group in df_event['trt'].unique():\n",
        "  mask=df_event['trt']==trt_group\n",
        "  kmf.fit(df_event[mask]['TIME'],df_event[mask]['Y'],label=trt_group)\n",
        "  kmf.plot_survival_function()\n",
        "plt.grid()\n",
        "plt.title('Treatment group curve')\n",
        "plt.show()"
      ]
    },
    {
      "cell_type": "markdown",
      "metadata": {},
      "source": [
        "### **Conclusion**\n",
        "\n",
        "Competing risks analysis provides a more accurate estimation of the probability of different types of events over time, essential when multiple outcomes are possible."
      ]
    },
    {
      "cell_type": "markdown",
      "metadata": {
        "id": "7NruZcW2ZsPn"
      },
      "source": [
        "## Median Survival Time\n",
        "\n",
        "\n",
        "Median survival time is the point in time when half of the participants in a study have experienced the event being studied, such as death or relapse. This value is taken from the Kaplan-Meier survival curve and provides a simple way to compare how well different treatments work. If one group has a longer median survival time, it means that people in that group generally stayed event-free for a longer period, suggesting better treatment outcomes.\n",
        "\n"
      ]
    },
    {
      "cell_type": "code",
      "execution_count": 7,
      "metadata": {
        "colab": {
          "base_uri": "https://localhost:8080/"
        },
        "id": "b-35oQDqWNiG",
        "outputId": "31122627-9ba6-4012-c20a-65e8a2e27f8b"
      },
      "outputs": [
        {
          "name": "stdout",
          "output_type": "stream",
          "text": [
            "Median survival time for standard is 93.5\n",
            "Median survival time for test is 51.5\n"
          ]
        }
      ],
      "source": [
        "for trt_group in df_event['trt'].unique():\n",
        "  mask=df_event['trt']==trt_group\n",
        "  kmf.fit(df_event[mask]['TIME'],df_event[mask]['Y'],label=str(trt_group)+'median='+str(np.median(df_event[mask]['TIME'])))\n",
        "  print(f\"Median survival time for {trt_group} is {np.median(df_event[mask]['TIME'])}\")"
      ]
    },
    {
      "cell_type": "markdown",
      "metadata": {
        "id": "ovh_lAlFgAGX"
      },
      "source": [
        "## 2. Log-Rank Test\n",
        "The Log-Rank Test is a commonly used statistical test in survival analysis to compare the survival curves of two or more groups. It helps determine whether there is a significant difference in the time it takes for an event (like death, recovery, or relapse) to occur between these groups. The test looks at the number of events observed versus expected at each time point and combines this information to produce a test statistic and p-value. If the p-value is low (typically less than 0.05), it suggests that the survival experiences of the groups are significantly different. This test is especially useful when evaluating the effectiveness of different treatments or interventions.\n",
        "\n",
        "**Purpose:** Statistically compare the survival distributions of two or more groups to determine if there are significant differences."
      ]
    },
    {
      "cell_type": "code",
      "execution_count": 8,
      "metadata": {
        "colab": {
          "base_uri": "https://localhost:8080/"
        },
        "id": "kEsk3fdpfu12",
        "outputId": "90566072-f607-426c-f817-6c6194bd1d0a"
      },
      "outputs": [
        {
          "name": "stdout",
          "output_type": "stream",
          "text": [
            "   test_statistic        p  -log2(p)\n",
            "0          0.0116  0.91423  0.129371\n"
          ]
        }
      ],
      "source": [
        "from lifelines.statistics import logrank_test\n",
        "group1=df_event[df_event['trt']=='standard']\n",
        "group2=df_event[df_event['trt']=='test']\n",
        "results=logrank_test(group1['TIME'],group2['TIME'],event_observed_A=group1['Y'],event_observed_B=group2['Y'])\n",
        "print(results.summary)"
      ]
    },
    {
      "cell_type": "markdown",
      "metadata": {},
      "source": [
        "### Conclusion\n",
        "\n",
        "The Log-Rank Test was used to statistically validate the differences observed in the Kaplan-Meier curves. By comparing survival distributions between different treatment groups, it confirmed whether these differences were significant or merely due to chance."
      ]
    },
    {
      "cell_type": "markdown",
      "metadata": {
        "id": "NKhGNp3Hlmtg"
      },
      "source": [
        "### 3. Cox Proportional Hazards Model\n",
        "\n",
        "The Cox Proportional Hazards Model is a widely used method in survival analysis that examines how different variables affect the time until an event occurs, such as death or recovery. It estimates the risk (hazard) of the event at any given time, assuming that the effect of each variable stays constant throughout the study. This model is helpful when analyzing the impact of multiple factors at once, making it easier to identify which ones truly influence survival.\n",
        "\n"
      ]
    },
    {
      "cell_type": "code",
      "execution_count": 9,
      "metadata": {
        "id": "u1qr5ahdhweo"
      },
      "outputs": [],
      "source": [
        "from lifelines import CoxPHFitter\n",
        "#prepare wide-formate data: one row per subject\n",
        "df_wide=df_event.copy()\n",
        "#Encode categorical variables\n",
        "df_wide=pd.get_dummies(df_wide,columns=['trt','celltype','priortherapy'],drop_first=True)"
      ]
    },
    {
      "cell_type": "code",
      "execution_count": 10,
      "metadata": {
        "colab": {
          "base_uri": "https://localhost:8080/",
          "height": 1000
        },
        "id": "JUzQjEPQpkxf",
        "outputId": "b96e7025-7125-47f8-fe52-0344f102aee1"
      },
      "outputs": [
        {
          "data": {
            "text/html": [
              "<div>\n",
              "<style scoped>\n",
              "    .dataframe tbody tr th:only-of-type {\n",
              "        vertical-align: middle;\n",
              "    }\n",
              "\n",
              "    .dataframe tbody tr th {\n",
              "        vertical-align: top;\n",
              "    }\n",
              "\n",
              "    .dataframe thead th {\n",
              "        text-align: right;\n",
              "    }\n",
              "</style>\n",
              "<table border=\"1\" class=\"dataframe\">\n",
              "  <tbody>\n",
              "    <tr>\n",
              "      <th>model</th>\n",
              "      <td>lifelines.CoxPHFitter</td>\n",
              "    </tr>\n",
              "    <tr>\n",
              "      <th>duration col</th>\n",
              "      <td>'TIME'</td>\n",
              "    </tr>\n",
              "    <tr>\n",
              "      <th>event col</th>\n",
              "      <td>'Y'</td>\n",
              "    </tr>\n",
              "    <tr>\n",
              "      <th>baseline estimation</th>\n",
              "      <td>breslow</td>\n",
              "    </tr>\n",
              "    <tr>\n",
              "      <th>number of observations</th>\n",
              "      <td>128</td>\n",
              "    </tr>\n",
              "    <tr>\n",
              "      <th>number of events observed</th>\n",
              "      <td>128</td>\n",
              "    </tr>\n",
              "    <tr>\n",
              "      <th>partial log-likelihood</th>\n",
              "      <td>-465.21</td>\n",
              "    </tr>\n",
              "    <tr>\n",
              "      <th>time fit was run</th>\n",
              "      <td>2025-06-05 16:58:54 UTC</td>\n",
              "    </tr>\n",
              "  </tbody>\n",
              "</table>\n",
              "</div><table border=\"1\" class=\"dataframe\">\n",
              "  <thead>\n",
              "    <tr style=\"text-align: right;\">\n",
              "      <th style=\"min-width: 12px;\"></th>\n",
              "      <th style=\"min-width: 12px;\">coef</th>\n",
              "      <th style=\"min-width: 12px;\">exp(coef)</th>\n",
              "      <th style=\"min-width: 12px;\">se(coef)</th>\n",
              "      <th style=\"min-width: 12px;\">coef lower 95%</th>\n",
              "      <th style=\"min-width: 12px;\">coef upper 95%</th>\n",
              "      <th style=\"min-width: 12px;\">exp(coef) lower 95%</th>\n",
              "      <th style=\"min-width: 12px;\">exp(coef) upper 95%</th>\n",
              "      <th style=\"min-width: 12px;\">cmp to</th>\n",
              "      <th style=\"min-width: 12px;\">z</th>\n",
              "      <th style=\"min-width: 12px;\">p</th>\n",
              "      <th style=\"min-width: 12px;\">-log2(p)</th>\n",
              "    </tr>\n",
              "  </thead>\n",
              "  <tbody>\n",
              "    <tr>\n",
              "      <th>ID</th>\n",
              "      <td>0.00</td>\n",
              "      <td>1.00</td>\n",
              "      <td>0.01</td>\n",
              "      <td>-0.03</td>\n",
              "      <td>0.03</td>\n",
              "      <td>0.97</td>\n",
              "      <td>1.03</td>\n",
              "      <td>0.00</td>\n",
              "      <td>0.20</td>\n",
              "      <td>0.84</td>\n",
              "      <td>0.25</td>\n",
              "    </tr>\n",
              "    <tr>\n",
              "      <th>karno</th>\n",
              "      <td>-0.03</td>\n",
              "      <td>0.97</td>\n",
              "      <td>0.01</td>\n",
              "      <td>-0.05</td>\n",
              "      <td>-0.02</td>\n",
              "      <td>0.96</td>\n",
              "      <td>0.98</td>\n",
              "      <td>0.00</td>\n",
              "      <td>-6.08</td>\n",
              "      <td>&lt;0.005</td>\n",
              "      <td>29.60</td>\n",
              "    </tr>\n",
              "    <tr>\n",
              "      <th>diagtime</th>\n",
              "      <td>-0.00</td>\n",
              "      <td>1.00</td>\n",
              "      <td>0.01</td>\n",
              "      <td>-0.02</td>\n",
              "      <td>0.01</td>\n",
              "      <td>0.98</td>\n",
              "      <td>1.01</td>\n",
              "      <td>0.00</td>\n",
              "      <td>-0.47</td>\n",
              "      <td>0.63</td>\n",
              "      <td>0.66</td>\n",
              "    </tr>\n",
              "    <tr>\n",
              "      <th>age</th>\n",
              "      <td>-0.01</td>\n",
              "      <td>0.99</td>\n",
              "      <td>0.01</td>\n",
              "      <td>-0.03</td>\n",
              "      <td>0.00</td>\n",
              "      <td>0.97</td>\n",
              "      <td>1.00</td>\n",
              "      <td>0.00</td>\n",
              "      <td>-1.54</td>\n",
              "      <td>0.12</td>\n",
              "      <td>3.02</td>\n",
              "    </tr>\n",
              "    <tr>\n",
              "      <th>trt_test</th>\n",
              "      <td>0.16</td>\n",
              "      <td>1.17</td>\n",
              "      <td>1.02</td>\n",
              "      <td>-1.84</td>\n",
              "      <td>2.16</td>\n",
              "      <td>0.16</td>\n",
              "      <td>8.63</td>\n",
              "      <td>0.00</td>\n",
              "      <td>0.16</td>\n",
              "      <td>0.88</td>\n",
              "      <td>0.19</td>\n",
              "    </tr>\n",
              "    <tr>\n",
              "      <th>celltype_large</th>\n",
              "      <td>-0.83</td>\n",
              "      <td>0.43</td>\n",
              "      <td>0.36</td>\n",
              "      <td>-1.53</td>\n",
              "      <td>-0.14</td>\n",
              "      <td>0.22</td>\n",
              "      <td>0.87</td>\n",
              "      <td>0.00</td>\n",
              "      <td>-2.34</td>\n",
              "      <td>0.02</td>\n",
              "      <td>5.71</td>\n",
              "    </tr>\n",
              "    <tr>\n",
              "      <th>celltype_smallcell</th>\n",
              "      <td>-0.12</td>\n",
              "      <td>0.88</td>\n",
              "      <td>0.38</td>\n",
              "      <td>-0.88</td>\n",
              "      <td>0.63</td>\n",
              "      <td>0.42</td>\n",
              "      <td>1.88</td>\n",
              "      <td>0.00</td>\n",
              "      <td>-0.32</td>\n",
              "      <td>0.75</td>\n",
              "      <td>0.42</td>\n",
              "    </tr>\n",
              "    <tr>\n",
              "      <th>celltype_squamous</th>\n",
              "      <td>-0.97</td>\n",
              "      <td>0.38</td>\n",
              "      <td>0.66</td>\n",
              "      <td>-2.27</td>\n",
              "      <td>0.33</td>\n",
              "      <td>0.10</td>\n",
              "      <td>1.38</td>\n",
              "      <td>0.00</td>\n",
              "      <td>-1.47</td>\n",
              "      <td>0.14</td>\n",
              "      <td>2.82</td>\n",
              "    </tr>\n",
              "    <tr>\n",
              "      <th>priortherapy_yes</th>\n",
              "      <td>0.18</td>\n",
              "      <td>1.20</td>\n",
              "      <td>0.24</td>\n",
              "      <td>-0.28</td>\n",
              "      <td>0.65</td>\n",
              "      <td>0.76</td>\n",
              "      <td>1.91</td>\n",
              "      <td>0.00</td>\n",
              "      <td>0.79</td>\n",
              "      <td>0.43</td>\n",
              "      <td>1.21</td>\n",
              "    </tr>\n",
              "  </tbody>\n",
              "</table><br><div>\n",
              "<style scoped>\n",
              "    .dataframe tbody tr th:only-of-type {\n",
              "        vertical-align: middle;\n",
              "    }\n",
              "\n",
              "    .dataframe tbody tr th {\n",
              "        vertical-align: top;\n",
              "    }\n",
              "\n",
              "    .dataframe thead th {\n",
              "        text-align: right;\n",
              "    }\n",
              "</style>\n",
              "<table border=\"1\" class=\"dataframe\">\n",
              "  <tbody>\n",
              "    <tr>\n",
              "      <th>Concordance</th>\n",
              "      <td>0.74</td>\n",
              "    </tr>\n",
              "    <tr>\n",
              "      <th>Partial AIC</th>\n",
              "      <td>948.43</td>\n",
              "    </tr>\n",
              "    <tr>\n",
              "      <th>log-likelihood ratio test</th>\n",
              "      <td>62.38 on 9 df</td>\n",
              "    </tr>\n",
              "    <tr>\n",
              "      <th>-log2(p) of ll-ratio test</th>\n",
              "      <td>31.00</td>\n",
              "    </tr>\n",
              "  </tbody>\n",
              "</table>\n",
              "</div>"
            ],
            "text/latex": [
              "\\begin{tabular}{lrrrrrrrrrrr}\n",
              " & coef & exp(coef) & se(coef) & coef lower 95% & coef upper 95% & exp(coef) lower 95% & exp(coef) upper 95% & cmp to & z & p & -log2(p) \\\\\n",
              "covariate &  &  &  &  &  &  &  &  &  &  &  \\\\\n",
              "ID & 0.00 & 1.00 & 0.01 & -0.03 & 0.03 & 0.97 & 1.03 & 0.00 & 0.20 & 0.84 & 0.25 \\\\\n",
              "karno & -0.03 & 0.97 & 0.01 & -0.05 & -0.02 & 0.96 & 0.98 & 0.00 & -6.08 & 0.00 & 29.60 \\\\\n",
              "diagtime & -0.00 & 1.00 & 0.01 & -0.02 & 0.01 & 0.98 & 1.01 & 0.00 & -0.47 & 0.63 & 0.66 \\\\\n",
              "age & -0.01 & 0.99 & 0.01 & -0.03 & 0.00 & 0.97 & 1.00 & 0.00 & -1.54 & 0.12 & 3.02 \\\\\n",
              "trt_test & 0.16 & 1.17 & 1.02 & -1.84 & 2.16 & 0.16 & 8.63 & 0.00 & 0.16 & 0.88 & 0.19 \\\\\n",
              "celltype_large & -0.83 & 0.43 & 0.36 & -1.53 & -0.14 & 0.22 & 0.87 & 0.00 & -2.34 & 0.02 & 5.71 \\\\\n",
              "celltype_smallcell & -0.12 & 0.88 & 0.38 & -0.88 & 0.63 & 0.42 & 1.88 & 0.00 & -0.32 & 0.75 & 0.42 \\\\\n",
              "celltype_squamous & -0.97 & 0.38 & 0.66 & -2.27 & 0.33 & 0.10 & 1.38 & 0.00 & -1.47 & 0.14 & 2.82 \\\\\n",
              "priortherapy_yes & 0.18 & 1.20 & 0.24 & -0.28 & 0.65 & 0.76 & 1.91 & 0.00 & 0.79 & 0.43 & 1.21 \\\\\n",
              "\\end{tabular}\n"
            ],
            "text/plain": [
              "<lifelines.CoxPHFitter: fitted with 128 total observations, 0 right-censored observations>\n",
              "             duration col = 'TIME'\n",
              "                event col = 'Y'\n",
              "      baseline estimation = breslow\n",
              "   number of observations = 128\n",
              "number of events observed = 128\n",
              "   partial log-likelihood = -465.21\n",
              "         time fit was run = 2025-06-05 16:58:54 UTC\n",
              "\n",
              "---\n",
              "                    coef exp(coef)  se(coef)  coef lower 95%  coef upper 95% exp(coef) lower 95% exp(coef) upper 95%\n",
              "covariate                                                                                                           \n",
              "ID                  0.00      1.00      0.01           -0.03            0.03                0.97                1.03\n",
              "karno              -0.03      0.97      0.01           -0.05           -0.02                0.96                0.98\n",
              "diagtime           -0.00      1.00      0.01           -0.02            0.01                0.98                1.01\n",
              "age                -0.01      0.99      0.01           -0.03            0.00                0.97                1.00\n",
              "trt_test            0.16      1.17      1.02           -1.84            2.16                0.16                8.63\n",
              "celltype_large     -0.83      0.43      0.36           -1.53           -0.14                0.22                0.87\n",
              "celltype_smallcell -0.12      0.88      0.38           -0.88            0.63                0.42                1.88\n",
              "celltype_squamous  -0.97      0.38      0.66           -2.27            0.33                0.10                1.38\n",
              "priortherapy_yes    0.18      1.20      0.24           -0.28            0.65                0.76                1.91\n",
              "\n",
              "                    cmp to     z      p  -log2(p)\n",
              "covariate                                        \n",
              "ID                    0.00  0.20   0.84      0.25\n",
              "karno                 0.00 -6.08 <0.005     29.60\n",
              "diagtime              0.00 -0.47   0.63      0.66\n",
              "age                   0.00 -1.54   0.12      3.02\n",
              "trt_test              0.00  0.16   0.88      0.19\n",
              "celltype_large        0.00 -2.34   0.02      5.71\n",
              "celltype_smallcell    0.00 -0.32   0.75      0.42\n",
              "celltype_squamous     0.00 -1.47   0.14      2.82\n",
              "priortherapy_yes      0.00  0.79   0.43      1.21\n",
              "---\n",
              "Concordance = 0.74\n",
              "Partial AIC = 948.43\n",
              "log-likelihood ratio test = 62.38 on 9 df\n",
              "-log2(p) of ll-ratio test = 31.00"
            ]
          },
          "metadata": {},
          "output_type": "display_data"
        },
        {
          "data": {
            "image/png": "[encoded data removed]",
            "text/plain": [
              "<Figure size 640x480 with 1 Axes>"
            ]
          },
          "metadata": {},
          "output_type": "display_data"
        }
      ],
      "source": [
        "cph=CoxPHFitter()\n",
        "cph.fit(df_wide,duration_col='TIME',event_col='Y')\n",
        "cph.print_summary()\n",
        "cph.plot()\n",
        "plt.show()\n",
        "#if hazard score is >1 then higher risk and <1 less risk"
      ]
    },
    {
      "cell_type": "markdown",
      "metadata": {},
      "source": [
        "### Conclusion\n",
        "\n",
        "he Cox Proportional Hazards Model allowed for a more detailed exploration of the impact of covariates on survival. It showed how treatment, patient health, and other factors influenced the risk of events, helping to pinpoint key drivers of survival outcomes. The model’s assumptions of constant effects over time provided valuable insight into patient prognosis."
      ]
    },
    {
      "cell_type": "markdown",
      "metadata": {
        "id": "zOkkuxbIH6ek"
      },
      "source": [
        "## 4. Stratified Cox Model\n",
        "\n",
        "The Stratified Cox Model is a modified version of the regular Cox model used when different groups in the data (like cancer types or age groups) have different starting risk levels. Instead of forcing all groups to follow the same baseline risk pattern, this model allows each group to have its own baseline hazard. At the same time, it still measures how other factors (like treatment or prior therapy) affect survival across all groups. This method is especially useful when the usual Cox model assumptions don’t hold because the risk patterns vary too much between groups.\n"
      ]
    },
    {
      "cell_type": "code",
      "execution_count": 11,
      "metadata": {
        "colab": {
          "base_uri": "https://localhost:8080/",
          "height": 717
        },
        "id": "2loT28iqH7D1",
        "outputId": "c6d504cc-41c6-461a-f652-3d0f1ad0bf9b"
      },
      "outputs": [
        {
          "data": {
            "text/html": [
              "<div>\n",
              "<style scoped>\n",
              "    .dataframe tbody tr th:only-of-type {\n",
              "        vertical-align: middle;\n",
              "    }\n",
              "\n",
              "    .dataframe tbody tr th {\n",
              "        vertical-align: top;\n",
              "    }\n",
              "\n",
              "    .dataframe thead th {\n",
              "        text-align: right;\n",
              "    }\n",
              "</style>\n",
              "<table border=\"1\" class=\"dataframe\">\n",
              "  <tbody>\n",
              "    <tr>\n",
              "      <th>model</th>\n",
              "      <td>lifelines.CoxPHFitter</td>\n",
              "    </tr>\n",
              "    <tr>\n",
              "      <th>duration col</th>\n",
              "      <td>'TIME'</td>\n",
              "    </tr>\n",
              "    <tr>\n",
              "      <th>event col</th>\n",
              "      <td>'Y'</td>\n",
              "    </tr>\n",
              "    <tr>\n",
              "      <th>strata</th>\n",
              "      <td>celltype</td>\n",
              "    </tr>\n",
              "    <tr>\n",
              "      <th>baseline estimation</th>\n",
              "      <td>breslow</td>\n",
              "    </tr>\n",
              "    <tr>\n",
              "      <th>number of observations</th>\n",
              "      <td>274</td>\n",
              "    </tr>\n",
              "    <tr>\n",
              "      <th>number of events observed</th>\n",
              "      <td>128</td>\n",
              "    </tr>\n",
              "    <tr>\n",
              "      <th>partial log-likelihood</th>\n",
              "      <td>-315.99</td>\n",
              "    </tr>\n",
              "    <tr>\n",
              "      <th>time fit was run</th>\n",
              "      <td>2025-06-05 16:58:54 UTC</td>\n",
              "    </tr>\n",
              "  </tbody>\n",
              "</table>\n",
              "</div><table border=\"1\" class=\"dataframe\">\n",
              "  <thead>\n",
              "    <tr style=\"text-align: right;\">\n",
              "      <th style=\"min-width: 12px;\"></th>\n",
              "      <th style=\"min-width: 12px;\">coef</th>\n",
              "      <th style=\"min-width: 12px;\">exp(coef)</th>\n",
              "      <th style=\"min-width: 12px;\">se(coef)</th>\n",
              "      <th style=\"min-width: 12px;\">coef lower 95%</th>\n",
              "      <th style=\"min-width: 12px;\">coef upper 95%</th>\n",
              "      <th style=\"min-width: 12px;\">exp(coef) lower 95%</th>\n",
              "      <th style=\"min-width: 12px;\">exp(coef) upper 95%</th>\n",
              "      <th style=\"min-width: 12px;\">cmp to</th>\n",
              "      <th style=\"min-width: 12px;\">z</th>\n",
              "      <th style=\"min-width: 12px;\">p</th>\n",
              "      <th style=\"min-width: 12px;\">-log2(p)</th>\n",
              "    </tr>\n",
              "  </thead>\n",
              "  <tbody>\n",
              "    <tr>\n",
              "      <th>ID</th>\n",
              "      <td>0.02</td>\n",
              "      <td>1.02</td>\n",
              "      <td>0.02</td>\n",
              "      <td>-0.01</td>\n",
              "      <td>0.05</td>\n",
              "      <td>0.99</td>\n",
              "      <td>1.05</td>\n",
              "      <td>0.00</td>\n",
              "      <td>1.11</td>\n",
              "      <td>0.27</td>\n",
              "      <td>1.90</td>\n",
              "    </tr>\n",
              "    <tr>\n",
              "      <th>karno</th>\n",
              "      <td>-0.04</td>\n",
              "      <td>0.96</td>\n",
              "      <td>0.01</td>\n",
              "      <td>-0.05</td>\n",
              "      <td>-0.03</td>\n",
              "      <td>0.95</td>\n",
              "      <td>0.97</td>\n",
              "      <td>0.00</td>\n",
              "      <td>-6.52</td>\n",
              "      <td>&lt;0.005</td>\n",
              "      <td>33.73</td>\n",
              "    </tr>\n",
              "    <tr>\n",
              "      <th>diagtime</th>\n",
              "      <td>-0.01</td>\n",
              "      <td>0.99</td>\n",
              "      <td>0.01</td>\n",
              "      <td>-0.02</td>\n",
              "      <td>0.01</td>\n",
              "      <td>0.98</td>\n",
              "      <td>1.01</td>\n",
              "      <td>0.00</td>\n",
              "      <td>-0.60</td>\n",
              "      <td>0.55</td>\n",
              "      <td>0.86</td>\n",
              "    </tr>\n",
              "    <tr>\n",
              "      <th>age</th>\n",
              "      <td>-0.01</td>\n",
              "      <td>0.99</td>\n",
              "      <td>0.01</td>\n",
              "      <td>-0.03</td>\n",
              "      <td>0.01</td>\n",
              "      <td>0.97</td>\n",
              "      <td>1.01</td>\n",
              "      <td>0.00</td>\n",
              "      <td>-1.41</td>\n",
              "      <td>0.16</td>\n",
              "      <td>2.65</td>\n",
              "    </tr>\n",
              "    <tr>\n",
              "      <th>trt_test</th>\n",
              "      <td>-0.90</td>\n",
              "      <td>0.41</td>\n",
              "      <td>1.09</td>\n",
              "      <td>-3.03</td>\n",
              "      <td>1.24</td>\n",
              "      <td>0.05</td>\n",
              "      <td>3.44</td>\n",
              "      <td>0.00</td>\n",
              "      <td>-0.82</td>\n",
              "      <td>0.41</td>\n",
              "      <td>1.29</td>\n",
              "    </tr>\n",
              "    <tr>\n",
              "      <th>priortherapy_yes</th>\n",
              "      <td>0.22</td>\n",
              "      <td>1.24</td>\n",
              "      <td>0.24</td>\n",
              "      <td>-0.25</td>\n",
              "      <td>0.69</td>\n",
              "      <td>0.78</td>\n",
              "      <td>1.99</td>\n",
              "      <td>0.00</td>\n",
              "      <td>0.90</td>\n",
              "      <td>0.37</td>\n",
              "      <td>1.44</td>\n",
              "    </tr>\n",
              "  </tbody>\n",
              "</table><br><div>\n",
              "<style scoped>\n",
              "    .dataframe tbody tr th:only-of-type {\n",
              "        vertical-align: middle;\n",
              "    }\n",
              "\n",
              "    .dataframe tbody tr th {\n",
              "        vertical-align: top;\n",
              "    }\n",
              "\n",
              "    .dataframe thead th {\n",
              "        text-align: right;\n",
              "    }\n",
              "</style>\n",
              "<table border=\"1\" class=\"dataframe\">\n",
              "  <tbody>\n",
              "    <tr>\n",
              "      <th>Concordance</th>\n",
              "      <td>0.71</td>\n",
              "    </tr>\n",
              "    <tr>\n",
              "      <th>Partial AIC</th>\n",
              "      <td>643.99</td>\n",
              "    </tr>\n",
              "    <tr>\n",
              "      <th>log-likelihood ratio test</th>\n",
              "      <td>45.48 on 6 df</td>\n",
              "    </tr>\n",
              "    <tr>\n",
              "      <th>-log2(p) of ll-ratio test</th>\n",
              "      <td>24.67</td>\n",
              "    </tr>\n",
              "  </tbody>\n",
              "</table>\n",
              "</div>"
            ],
            "text/latex": [
              "\\begin{tabular}{lrrrrrrrrrrr}\n",
              " & coef & exp(coef) & se(coef) & coef lower 95% & coef upper 95% & exp(coef) lower 95% & exp(coef) upper 95% & cmp to & z & p & -log2(p) \\\\\n",
              "covariate &  &  &  &  &  &  &  &  &  &  &  \\\\\n",
              "ID & 0.02 & 1.02 & 0.02 & -0.01 & 0.05 & 0.99 & 1.05 & 0.00 & 1.11 & 0.27 & 1.90 \\\\\n",
              "karno & -0.04 & 0.96 & 0.01 & -0.05 & -0.03 & 0.95 & 0.97 & 0.00 & -6.52 & 0.00 & 33.73 \\\\\n",
              "diagtime & -0.01 & 0.99 & 0.01 & -0.02 & 0.01 & 0.98 & 1.01 & 0.00 & -0.60 & 0.55 & 0.86 \\\\\n",
              "age & -0.01 & 0.99 & 0.01 & -0.03 & 0.01 & 0.97 & 1.01 & 0.00 & -1.41 & 0.16 & 2.65 \\\\\n",
              "trt_test & -0.90 & 0.41 & 1.09 & -3.03 & 1.24 & 0.05 & 3.44 & 0.00 & -0.82 & 0.41 & 1.29 \\\\\n",
              "priortherapy_yes & 0.22 & 1.24 & 0.24 & -0.25 & 0.69 & 0.78 & 1.99 & 0.00 & 0.90 & 0.37 & 1.44 \\\\\n",
              "\\end{tabular}\n"
            ],
            "text/plain": [
              "<lifelines.CoxPHFitter: fitted with 274 total observations, 146 right-censored observations>\n",
              "             duration col = 'TIME'\n",
              "                event col = 'Y'\n",
              "                   strata = celltype\n",
              "      baseline estimation = breslow\n",
              "   number of observations = 274\n",
              "number of events observed = 128\n",
              "   partial log-likelihood = -315.99\n",
              "         time fit was run = 2025-06-05 16:58:54 UTC\n",
              "\n",
              "---\n",
              "                  coef exp(coef)  se(coef)  coef lower 95%  coef upper 95% exp(coef) lower 95% exp(coef) upper 95%\n",
              "covariate                                                                                                         \n",
              "ID                0.02      1.02      0.02           -0.01            0.05                0.99                1.05\n",
              "karno            -0.04      0.96      0.01           -0.05           -0.03                0.95                0.97\n",
              "diagtime         -0.01      0.99      0.01           -0.02            0.01                0.98                1.01\n",
              "age              -0.01      0.99      0.01           -0.03            0.01                0.97                1.01\n",
              "trt_test         -0.90      0.41      1.09           -3.03            1.24                0.05                3.44\n",
              "priortherapy_yes  0.22      1.24      0.24           -0.25            0.69                0.78                1.99\n",
              "\n",
              "                  cmp to     z      p  -log2(p)\n",
              "covariate                                      \n",
              "ID                  0.00  1.11   0.27      1.90\n",
              "karno               0.00 -6.52 <0.005     33.73\n",
              "diagtime            0.00 -0.60   0.55      0.86\n",
              "age                 0.00 -1.41   0.16      2.65\n",
              "trt_test            0.00 -0.82   0.41      1.29\n",
              "priortherapy_yes    0.00  0.90   0.37      1.44\n",
              "---\n",
              "Concordance = 0.71\n",
              "Partial AIC = 643.99\n",
              "log-likelihood ratio test = 45.48 on 6 df\n",
              "-log2(p) of ll-ratio test = 24.67"
            ]
          },
          "metadata": {},
          "output_type": "display_data"
        }
      ],
      "source": [
        "df_encoded = pd.get_dummies(df, columns=['trt', 'priortherapy'], drop_first=True)\n",
        "\n",
        "# Fit Stratified Cox Model using 'celltype' as the strata\n",
        "cph_strat = CoxPHFitter()\n",
        "cph_strat.fit(df_encoded, duration_col='TIME', event_col='Y', strata=['celltype'])\n",
        "cph_strat.print_summary()\n"
      ]
    },
    {
      "cell_type": "markdown",
      "metadata": {},
      "source": [
        "### Conclusion\n",
        "\n",
        "The Stratified Cox Model provided a way to address varying baseline risks across different patient groups, such as those with different cancer cell types. This model adjusted for these differences, allowing for a better comparison of the effects of other covariates across groups."
      ]
    },
    {
      "cell_type": "markdown",
      "metadata": {
        "id": "5ZhmzeHzf7JT"
      },
      "source": [
        "## 5. Time-Varying Survival Analysis\n",
        "\n",
        "\n",
        "Time-varying survival analysis is used when certain factors, like treatment status or patient health, change over time and affect survival outcomes. Unlike traditional models that assume these factors stay constant, time-varying analysis takes into account these changes throughout the study period. This allows for a more accurate and detailed understanding of how evolving factors influence survival, offering a better representation of real-world conditions where patient circumstances can shift over time."
      ]
    },
    {
      "cell_type": "code",
      "execution_count": null,
      "metadata": {
        "colab": {
          "base_uri": "https://localhost:8080/"
        },
        "id": "Ka2Qq_hjsVzI",
        "outputId": "e5de540b-b2da-4e80-e283-2847a515eaa6"
      },
      "outputs": [
        {
          "name": "stdout",
          "output_type": "stream",
          "text": [
            "   ID  start  stop  event\n",
            "0   1      0    72      1\n",
            "1   2      0   411      1\n",
            "2   3      0   228      1\n",
            "3   4      0   126      1\n",
            "4   5      0   118      1\n"
          ]
        }
      ],
      "source": [
        "\n",
        "df_start=df[df['Y']==0].copy() \n",
        "df_event=df[df['Y']==1].copy() \n",
        "\n",
        "\n",
        "df_event=df_event.rename(columns={\"TIME\":\"stop\",\"Y\":\"event\"})\n",
        "df_start=df_start.rename(columns={\"TIME\":\"start\"})\n",
        "\n",
        "df_timevarying=pd.merge(df_start,df_event[[\"ID\",\"stop\",\"event\"]],on=\"ID\")\n",
        "df_timevarying=pd.get_dummies(df_timevarying,columns=['trt','celltype','priortherapy'],drop_first=True)\n",
        "\n",
        "#final check\n",
        "print(df_timevarying[[\"ID\",\"start\",\"stop\",\"event\"]].head())"
      ]
    },
    {
      "cell_type": "code",
      "execution_count": 13,
      "metadata": {
        "colab": {
          "base_uri": "https://localhost:8080/"
        },
        "id": "xfSB3LHFk1lJ",
        "outputId": "e402640e-3c64-4ce3-cc2a-5f047f99e259"
      },
      "outputs": [
        {
          "name": "stdout",
          "output_type": "stream",
          "text": [
            "ID                    0\n",
            "start                 0\n",
            "Y                     0\n",
            "karno                 0\n",
            "diagtime              0\n",
            "age                   0\n",
            "stop                  0\n",
            "event                 0\n",
            "trt_test              0\n",
            "celltype_large        0\n",
            "celltype_smallcell    0\n",
            "celltype_squamous     0\n",
            "priortherapy_yes      0\n",
            "dtype: int64\n"
          ]
        }
      ],
      "source": [
        "#check there is null value\n",
        "print(df_timevarying.isnull().sum())\n",
        "#ensure y is not in the modeling data\n",
        "if 'Y' in df_timevarying.columns:\n",
        "   df_timevarying.drop(columns=['Y'],inplace=True)\n"
      ]
    },
    {
      "cell_type": "markdown",
      "metadata": {
        "id": "uPMwf7wUtZyn"
      },
      "source": [
        "## Cox Time-Varying Coefficient Model\n",
        "\n",
        "\n",
        "\n",
        "The Cox Time-Varying Coefficient Model builds on the standard Cox model by allowing the effect of covariates to change over time. This flexibility makes it possible to study how factors, such as treatment or patient health, dynamically influence the risk of an event throughout the study period. The model uses the CoxTimeVaryingFitter to handle this time-varying nature, incorporating patient IDs, event occurrences, and time intervals (start, stop) for the analysis. The results, including the model summary and coefficient plots, help us interpret how the impact of covariates evolves over time.\n"
      ]
    },
    {
      "cell_type": "code",
      "execution_count": 14,
      "metadata": {
        "colab": {
          "base_uri": "https://localhost:8080/",
          "height": 1000
        },
        "id": "CBqeTLZasyTt",
        "outputId": "b4776779-7cca-42b9-c24f-d1e883f85a7d"
      },
      "outputs": [
        {
          "data": {
            "text/html": [
              "<div>\n",
              "<style scoped>\n",
              "    .dataframe tbody tr th:only-of-type {\n",
              "        vertical-align: middle;\n",
              "    }\n",
              "\n",
              "    .dataframe tbody tr th {\n",
              "        vertical-align: top;\n",
              "    }\n",
              "\n",
              "    .dataframe thead th {\n",
              "        text-align: right;\n",
              "    }\n",
              "</style>\n",
              "<table border=\"1\" class=\"dataframe\">\n",
              "  <tbody>\n",
              "    <tr>\n",
              "      <th>model</th>\n",
              "      <td>lifelines.CoxTimeVaryingFitter</td>\n",
              "    </tr>\n",
              "    <tr>\n",
              "      <th>event col</th>\n",
              "      <td>'event'</td>\n",
              "    </tr>\n",
              "    <tr>\n",
              "      <th>number of subjects</th>\n",
              "      <td>128</td>\n",
              "    </tr>\n",
              "    <tr>\n",
              "      <th>number of periods</th>\n",
              "      <td>128</td>\n",
              "    </tr>\n",
              "    <tr>\n",
              "      <th>number of events</th>\n",
              "      <td>128</td>\n",
              "    </tr>\n",
              "    <tr>\n",
              "      <th>partial log-likelihood</th>\n",
              "      <td>-465.24</td>\n",
              "    </tr>\n",
              "    <tr>\n",
              "      <th>time fit was run</th>\n",
              "      <td>2025-06-05 16:58:55 UTC</td>\n",
              "    </tr>\n",
              "  </tbody>\n",
              "</table>\n",
              "</div><table border=\"1\" class=\"dataframe\">\n",
              "  <thead>\n",
              "    <tr style=\"text-align: right;\">\n",
              "      <th style=\"min-width: 12px;\"></th>\n",
              "      <th style=\"min-width: 12px;\">coef</th>\n",
              "      <th style=\"min-width: 12px;\">exp(coef)</th>\n",
              "      <th style=\"min-width: 12px;\">se(coef)</th>\n",
              "      <th style=\"min-width: 12px;\">coef lower 95%</th>\n",
              "      <th style=\"min-width: 12px;\">coef upper 95%</th>\n",
              "      <th style=\"min-width: 12px;\">exp(coef) lower 95%</th>\n",
              "      <th style=\"min-width: 12px;\">exp(coef) upper 95%</th>\n",
              "      <th style=\"min-width: 12px;\">cmp to</th>\n",
              "      <th style=\"min-width: 12px;\">z</th>\n",
              "      <th style=\"min-width: 12px;\">p</th>\n",
              "      <th style=\"min-width: 12px;\">-log2(p)</th>\n",
              "    </tr>\n",
              "  </thead>\n",
              "  <tbody>\n",
              "    <tr>\n",
              "      <th>karno</th>\n",
              "      <td>-0.03</td>\n",
              "      <td>0.97</td>\n",
              "      <td>0.01</td>\n",
              "      <td>-0.05</td>\n",
              "      <td>-0.02</td>\n",
              "      <td>0.96</td>\n",
              "      <td>0.98</td>\n",
              "      <td>0.00</td>\n",
              "      <td>-6.07</td>\n",
              "      <td>&lt;0.005</td>\n",
              "      <td>29.52</td>\n",
              "    </tr>\n",
              "    <tr>\n",
              "      <th>diagtime</th>\n",
              "      <td>-0.00</td>\n",
              "      <td>1.00</td>\n",
              "      <td>0.01</td>\n",
              "      <td>-0.02</td>\n",
              "      <td>0.01</td>\n",
              "      <td>0.98</td>\n",
              "      <td>1.01</td>\n",
              "      <td>0.00</td>\n",
              "      <td>-0.45</td>\n",
              "      <td>0.65</td>\n",
              "      <td>0.61</td>\n",
              "    </tr>\n",
              "    <tr>\n",
              "      <th>age</th>\n",
              "      <td>-0.01</td>\n",
              "      <td>0.99</td>\n",
              "      <td>0.01</td>\n",
              "      <td>-0.03</td>\n",
              "      <td>0.00</td>\n",
              "      <td>0.97</td>\n",
              "      <td>1.00</td>\n",
              "      <td>0.00</td>\n",
              "      <td>-1.53</td>\n",
              "      <td>0.12</td>\n",
              "      <td>3.00</td>\n",
              "    </tr>\n",
              "    <tr>\n",
              "      <th>trt_test</th>\n",
              "      <td>0.36</td>\n",
              "      <td>1.44</td>\n",
              "      <td>0.21</td>\n",
              "      <td>-0.05</td>\n",
              "      <td>0.77</td>\n",
              "      <td>0.95</td>\n",
              "      <td>2.17</td>\n",
              "      <td>0.00</td>\n",
              "      <td>1.72</td>\n",
              "      <td>0.08</td>\n",
              "      <td>3.56</td>\n",
              "    </tr>\n",
              "    <tr>\n",
              "      <th>celltype_large</th>\n",
              "      <td>-0.80</td>\n",
              "      <td>0.45</td>\n",
              "      <td>0.30</td>\n",
              "      <td>-1.38</td>\n",
              "      <td>-0.21</td>\n",
              "      <td>0.25</td>\n",
              "      <td>0.81</td>\n",
              "      <td>0.00</td>\n",
              "      <td>-2.65</td>\n",
              "      <td>0.01</td>\n",
              "      <td>6.95</td>\n",
              "    </tr>\n",
              "    <tr>\n",
              "      <th>celltype_smallcell</th>\n",
              "      <td>-0.18</td>\n",
              "      <td>0.84</td>\n",
              "      <td>0.28</td>\n",
              "      <td>-0.72</td>\n",
              "      <td>0.36</td>\n",
              "      <td>0.49</td>\n",
              "      <td>1.44</td>\n",
              "      <td>0.00</td>\n",
              "      <td>-0.65</td>\n",
              "      <td>0.52</td>\n",
              "      <td>0.96</td>\n",
              "    </tr>\n",
              "    <tr>\n",
              "      <th>celltype_squamous</th>\n",
              "      <td>-1.10</td>\n",
              "      <td>0.33</td>\n",
              "      <td>0.30</td>\n",
              "      <td>-1.68</td>\n",
              "      <td>-0.51</td>\n",
              "      <td>0.19</td>\n",
              "      <td>0.60</td>\n",
              "      <td>0.00</td>\n",
              "      <td>-3.66</td>\n",
              "      <td>&lt;0.005</td>\n",
              "      <td>11.94</td>\n",
              "    </tr>\n",
              "    <tr>\n",
              "      <th>priortherapy_yes</th>\n",
              "      <td>0.18</td>\n",
              "      <td>1.19</td>\n",
              "      <td>0.23</td>\n",
              "      <td>-0.28</td>\n",
              "      <td>0.63</td>\n",
              "      <td>0.76</td>\n",
              "      <td>1.88</td>\n",
              "      <td>0.00</td>\n",
              "      <td>0.76</td>\n",
              "      <td>0.45</td>\n",
              "      <td>1.17</td>\n",
              "    </tr>\n",
              "  </tbody>\n",
              "</table><br><div>\n",
              "<style scoped>\n",
              "    .dataframe tbody tr th:only-of-type {\n",
              "        vertical-align: middle;\n",
              "    }\n",
              "\n",
              "    .dataframe tbody tr th {\n",
              "        vertical-align: top;\n",
              "    }\n",
              "\n",
              "    .dataframe thead th {\n",
              "        text-align: right;\n",
              "    }\n",
              "</style>\n",
              "<table border=\"1\" class=\"dataframe\">\n",
              "  <tbody>\n",
              "    <tr>\n",
              "      <th>Partial AIC</th>\n",
              "      <td>946.47</td>\n",
              "    </tr>\n",
              "    <tr>\n",
              "      <th>log-likelihood ratio test</th>\n",
              "      <td>62.34 on 8 df</td>\n",
              "    </tr>\n",
              "    <tr>\n",
              "      <th>-log2(p) of ll-ratio test</th>\n",
              "      <td>32.53</td>\n",
              "    </tr>\n",
              "  </tbody>\n",
              "</table>\n",
              "</div>"
            ],
            "text/latex": [
              "\\begin{tabular}{lrrrrrrrrrrr}\n",
              " & coef & exp(coef) & se(coef) & coef lower 95% & coef upper 95% & exp(coef) lower 95% & exp(coef) upper 95% & cmp to & z & p & -log2(p) \\\\\n",
              "covariate &  &  &  &  &  &  &  &  &  &  &  \\\\\n",
              "karno & -0.03 & 0.97 & 0.01 & -0.05 & -0.02 & 0.96 & 0.98 & 0.00 & -6.07 & 0.00 & 29.52 \\\\\n",
              "diagtime & -0.00 & 1.00 & 0.01 & -0.02 & 0.01 & 0.98 & 1.01 & 0.00 & -0.45 & 0.65 & 0.61 \\\\\n",
              "age & -0.01 & 0.99 & 0.01 & -0.03 & 0.00 & 0.97 & 1.00 & 0.00 & -1.53 & 0.12 & 3.00 \\\\\n",
              "trt_test & 0.36 & 1.44 & 0.21 & -0.05 & 0.77 & 0.95 & 2.17 & 0.00 & 1.72 & 0.08 & 3.56 \\\\\n",
              "celltype_large & -0.80 & 0.45 & 0.30 & -1.38 & -0.21 & 0.25 & 0.81 & 0.00 & -2.65 & 0.01 & 6.95 \\\\\n",
              "celltype_smallcell & -0.18 & 0.84 & 0.28 & -0.72 & 0.36 & 0.49 & 1.44 & 0.00 & -0.65 & 0.52 & 0.96 \\\\\n",
              "celltype_squamous & -1.10 & 0.33 & 0.30 & -1.68 & -0.51 & 0.19 & 0.60 & 0.00 & -3.66 & 0.00 & 11.94 \\\\\n",
              "priortherapy_yes & 0.18 & 1.19 & 0.23 & -0.28 & 0.63 & 0.76 & 1.88 & 0.00 & 0.76 & 0.45 & 1.17 \\\\\n",
              "\\end{tabular}\n"
            ],
            "text/plain": [
              "<lifelines.CoxTimeVaryingFitter: fitted with 128 periods, 128 subjects, 128 events>\n",
              "         event col = 'event'\n",
              "number of subjects = 128\n",
              " number of periods = 128\n",
              "  number of events = 128\n",
              "partial log-likelihood = -465.24\n",
              "  time fit was run = 2025-06-05 16:58:55 UTC\n",
              "\n",
              "---\n",
              "                    coef exp(coef)  se(coef)  coef lower 95%  coef upper 95% exp(coef) lower 95% exp(coef) upper 95%\n",
              "covariate                                                                                                           \n",
              "karno              -0.03      0.97      0.01           -0.05           -0.02                0.96                0.98\n",
              "diagtime           -0.00      1.00      0.01           -0.02            0.01                0.98                1.01\n",
              "age                -0.01      0.99      0.01           -0.03            0.00                0.97                1.00\n",
              "trt_test            0.36      1.44      0.21           -0.05            0.77                0.95                2.17\n",
              "celltype_large     -0.80      0.45      0.30           -1.38           -0.21                0.25                0.81\n",
              "celltype_smallcell -0.18      0.84      0.28           -0.72            0.36                0.49                1.44\n",
              "celltype_squamous  -1.10      0.33      0.30           -1.68           -0.51                0.19                0.60\n",
              "priortherapy_yes    0.18      1.19      0.23           -0.28            0.63                0.76                1.88\n",
              "\n",
              "                    cmp to     z      p  -log2(p)\n",
              "covariate                                        \n",
              "karno                 0.00 -6.07 <0.005     29.52\n",
              "diagtime              0.00 -0.45   0.65      0.61\n",
              "age                   0.00 -1.53   0.12      3.00\n",
              "trt_test              0.00  1.72   0.08      3.56\n",
              "celltype_large        0.00 -2.65   0.01      6.95\n",
              "celltype_smallcell    0.00 -0.65   0.52      0.96\n",
              "celltype_squamous     0.00 -3.66 <0.005     11.94\n",
              "priortherapy_yes      0.00  0.76   0.45      1.17\n",
              "---\n",
              "Partial AIC = 946.47\n",
              "log-likelihood ratio test = 62.34 on 8 df\n",
              "-log2(p) of ll-ratio test = 32.53"
            ]
          },
          "metadata": {},
          "output_type": "display_data"
        },
        {
          "data": {
            "image/png": "[encoded data removed]",
            "text/plain": [
              "<Figure size 640x480 with 1 Axes>"
            ]
          },
          "metadata": {},
          "output_type": "display_data"
        }
      ],
      "source": [
        "#When patient condition changes over time\n",
        "from lifelines import CoxTimeVaryingFitter\n",
        "ctv=CoxTimeVaryingFitter()\n",
        "ctv.fit(df_timevarying,id_col='ID',event_col='event',start_col='start',stop_col='stop')\n",
        "ctv.print_summary()\n",
        "ctv.plot()\n",
        "plt.show()"
      ]
    },
    {
      "cell_type": "markdown",
      "metadata": {
        "id": "0JxWzgxxEsHs"
      },
      "source": [
        "## Kaplan-Meier Time-Varying Analysis\n",
        "\n",
        "\n",
        "In this step, Kaplan-Meier survival curves are generated to compare survival probabilities across different patient cell types over time. For each unique cell type, the data is filtered accordingly, and the Kaplan-Meier estimator is applied using the TIME (duration) and Y (event occurrence) variables. The resulting survival functions are plotted to visually represent how the likelihood of survival changes over time for each cell type, allowing for a direct comparison of survival outcomes across these groups.\n",
        "\n"
      ]
    },
    {
      "cell_type": "code",
      "execution_count": 15,
      "metadata": {
        "colab": {
          "base_uri": "https://localhost:8080/",
          "height": 503
        },
        "id": "afYhm9KUxUaX",
        "outputId": "9d807ccf-c64f-4d08-d8e1-f54740660907"
      },
      "outputs": [
        {
          "data": {
            "image/png": "[encoded data removed]",
            "text/plain": [
              "<Figure size 1000x600 with 1 Axes>"
            ]
          },
          "metadata": {},
          "output_type": "display_data"
        }
      ],
      "source": [
        "plt.figure(figsize=(10, 6))\n",
        "for cell in df['celltype'].unique():\n",
        "    mask = df['celltype'] == cell\n",
        "    kmf.fit(df[mask]['TIME'], event_observed=df[mask]['Y'], label=cell)\n",
        "    kmf.plot_survival_function()\n",
        "\n",
        "plt.title('Kaplan-Meier Curve by Cell Type (Time-Varying)')\n",
        "plt.xlabel('Time')\n",
        "plt.ylabel('Survival Probability')\n",
        "plt.legend(title='Cell Type')\n",
        "plt.grid(True)\n",
        "plt.show()"
      ]
    },
    {
      "cell_type": "markdown",
      "metadata": {
        "id": "iloS540mGlhB"
      },
      "source": [
        "## Log-Rank Test for Time-Varying Groups\n",
        "\n",
        "\n",
        "\n",
        "The Log-Rank Test is used to compare the survival distributions between two patient groups with different cell types, specifically squamous and small cell lung cancer. By utilizing the TIME (duration) and Y (event occurrence) variables, the test assesses whether there is a significant difference in survival times between these groups. The results of the test help determine if one group has longer survival and whether the difference observed is statistically significant or just a random variation.\n",
        "\n",
        "\n",
        "\n"
      ]
    },
    {
      "cell_type": "code",
      "execution_count": null,
      "metadata": {
        "colab": {
          "base_uri": "https://localhost:8080/",
          "height": 206
        },
        "id": "J9Qz9enKGoic",
        "outputId": "a6714328-d252-4fd7-d5fa-ad4071079475"
      },
      "outputs": [
        {
          "data": {
            "text/html": [
              "<div>\n",
              "<style scoped>\n",
              "    .dataframe tbody tr th:only-of-type {\n",
              "        vertical-align: middle;\n",
              "    }\n",
              "\n",
              "    .dataframe tbody tr th {\n",
              "        vertical-align: top;\n",
              "    }\n",
              "\n",
              "    .dataframe thead th {\n",
              "        text-align: right;\n",
              "    }\n",
              "</style>\n",
              "<table border=\"1\" class=\"dataframe\">\n",
              "  <tbody>\n",
              "    <tr>\n",
              "      <th>t_0</th>\n",
              "      <td>-1</td>\n",
              "    </tr>\n",
              "    <tr>\n",
              "      <th>null_distribution</th>\n",
              "      <td>chi squared</td>\n",
              "    </tr>\n",
              "    <tr>\n",
              "      <th>degrees_of_freedom</th>\n",
              "      <td>1</td>\n",
              "    </tr>\n",
              "    <tr>\n",
              "      <th>test_name</th>\n",
              "      <td>logrank_test</td>\n",
              "    </tr>\n",
              "  </tbody>\n",
              "</table>\n",
              "</div><table border=\"1\" class=\"dataframe\">\n",
              "  <thead>\n",
              "    <tr style=\"text-align: right;\">\n",
              "      <th></th>\n",
              "      <th>test_statistic</th>\n",
              "      <th>p</th>\n",
              "      <th>-log2(p)</th>\n",
              "    </tr>\n",
              "  </thead>\n",
              "  <tbody>\n",
              "    <tr>\n",
              "      <th>0</th>\n",
              "      <td>11.57</td>\n",
              "      <td>&lt;0.005</td>\n",
              "      <td>10.55</td>\n",
              "    </tr>\n",
              "  </tbody>\n",
              "</table>"
            ],
            "text/latex": [
              "\\begin{tabular}{lrrr}\n",
              " & test_statistic & p & -log2(p) \\\\\n",
              "0 & 11.57 & 0.00 & 10.55 \\\\\n",
              "\\end{tabular}\n"
            ],
            "text/plain": [
              "<lifelines.StatisticalResult: logrank_test>\n",
              "               t_0 = -1\n",
              " null_distribution = chi squared\n",
              "degrees_of_freedom = 1\n",
              "         test_name = logrank_test\n",
              "\n",
              "---\n",
              " test_statistic      p  -log2(p)\n",
              "          11.57 <0.005     10.55"
            ]
          },
          "metadata": {},
          "output_type": "display_data"
        }
      ],
      "source": [
        "group1 = df[df['celltype'] == 'squamous']\n",
        "group2 = df[df['celltype'] == 'smallcell']\n",
        "\n",
        "results = logrank_test(group1['TIME'], group2['TIME'],\n",
        "                       event_observed_A=group1['Y'], event_observed_B=group2['Y'])\n",
        "results.print_summary()"
      ]
    },
    {
      "cell_type": "markdown",
      "metadata": {
        "id": "_lYMciVbi5hX"
      },
      "source": [
        "## Competing Risk\n",
        "\n",
        "\n",
        "\n",
        "Competing risks refer to events that can prevent the primary event of interest from occurring. For example, in a clinical study, a patient might either die from lung cancer (the primary event) or from an unrelated cause like a heart attack (a competing event). Once one event happens, the other cannot occur. If competing risks are not accounted for in survival analysis, the results may become biased or misleading, especially if these competing events are common.\n",
        "\n",
        "\n"
      ]
    },
    {
      "cell_type": "markdown",
      "metadata": {
        "id": "o_ZiEVuYr1Lt"
      },
      "source": [
        "## Conclusion\n",
        "\n",
        "In this project, various survival analysis techniques were applied to assess outcomes in lung cancer patients. The Kaplan-Meier curves provided a visual comparison of survival across treatment groups, and the Log-Rank Test confirmed these differences were statistically significant. The Cox Proportional Hazards Model helped identify key factors, such as treatment type and patient condition, that influence survival. The Time-Varying Covariate Model addressed how these factors change over time. The Stratified Cox Model accounted for differences in baseline risks between cancer cell types, and the Fine-Gray Competing Risks Model considered mortality from causes other than lung cancer.\n"
      ]
    }
  ],
  "metadata": {
    "colab": {
      "provenance": []
    },
    "kernelspec": {
      "display_name": "Python 3",
      "name": "python3"
    },
    "language_info": {
      "codemirror_mode": {
        "name": "ipython",
        "version": 3
      },
      "file_extension": ".py",
      "mimetype": "text/x-python",
      "name": "python",
      "nbconvert_exporter": "python",
      "pygments_lexer": "ipython3",
      "version": "3.12.4"
    }
  },
  "nbformat": 4,
  "nbformat_minor": 0
}
